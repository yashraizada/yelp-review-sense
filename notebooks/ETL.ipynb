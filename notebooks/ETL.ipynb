{
  "cells": [
    {
      "cell_type": "code",
      "execution_count": 3,
      "metadata": {
        "colab": {
          "base_uri": "https://localhost:8080/"
        },
        "execution": {
          "iopub.execute_input": "2023-10-16T15:05:02.501405Z",
          "iopub.status.busy": "2023-10-16T15:05:02.501037Z",
          "iopub.status.idle": "2023-10-16T15:05:49.867094Z",
          "shell.execute_reply": "2023-10-16T15:05:49.866226Z",
          "shell.execute_reply.started": "2023-10-16T15:05:02.501374Z"
        },
        "id": "VQRg1DvWCF63",
        "outputId": "07f12af1-c982-4b1e-f6e1-ee908439ba4d",
        "trusted": true
      },
      "outputs": [
        {
          "name": "stdout",
          "output_type": "stream",
          "text": [
            "Collecting pyspark\n",
            "  Downloading pyspark-3.5.0.tar.gz (316.9 MB)\n",
            "\u001b[2K     \u001b[90m━━━━━━━━━━━━━━━━━━━━━━━━━━━━━━━━━━━━━━━━\u001b[0m \u001b[32m316.9/316.9 MB\u001b[0m \u001b[31m2.7 MB/s\u001b[0m eta \u001b[36m0:00:00\u001b[0m\n",
            "\u001b[?25h  Preparing metadata (setup.py) ... \u001b[?25l\u001b[?25hdone\n",
            "Requirement already satisfied: py4j==0.10.9.7 in /usr/local/lib/python3.10/dist-packages (from pyspark) (0.10.9.7)\n",
            "Building wheels for collected packages: pyspark\n",
            "  Building wheel for pyspark (setup.py) ... \u001b[?25l\u001b[?25hdone\n",
            "  Created wheel for pyspark: filename=pyspark-3.5.0-py2.py3-none-any.whl size=317425344 sha256=f39a2e80ef01f85fe678fe27920a0e833b5a1d41a3d452fb5de38d0a5749e5fc\n",
            "  Stored in directory: /root/.cache/pip/wheels/41/4e/10/c2cf2467f71c678cfc8a6b9ac9241e5e44a01940da8fbb17fc\n",
            "Successfully built pyspark\n",
            "Installing collected packages: pyspark\n",
            "Successfully installed pyspark-3.5.0\n"
          ]
        }
      ],
      "source": [
        "!pip install pyspark"
      ]
    },
    {
      "cell_type": "code",
      "execution_count": 4,
      "metadata": {
        "colab": {
          "base_uri": "https://localhost:8080/"
        },
        "execution": {
          "iopub.execute_input": "2023-10-16T15:05:49.869465Z",
          "iopub.status.busy": "2023-10-16T15:05:49.869131Z",
          "iopub.status.idle": "2023-10-16T15:06:00.073631Z",
          "shell.execute_reply": "2023-10-16T15:06:00.072751Z",
          "shell.execute_reply.started": "2023-10-16T15:05:49.869439Z"
        },
        "id": "3kdq6-2FCF66",
        "outputId": "ed4a81e5-ee06-4b71-90a9-935bc297f622",
        "trusted": true
      },
      "outputs": [
        {
          "name": "stdout",
          "output_type": "stream",
          "text": [
            "Collecting dnspython\n",
            "  Downloading dnspython-2.4.2-py3-none-any.whl (300 kB)\n",
            "\u001b[2K     \u001b[90m━━━━━━━━━━━━━━━━━━━━━━━━━━━━━━━━━━━━━━━━\u001b[0m \u001b[32m300.4/300.4 kB\u001b[0m \u001b[31m4.2 MB/s\u001b[0m eta \u001b[36m0:00:00\u001b[0m\n",
            "\u001b[?25hInstalling collected packages: dnspython\n",
            "Successfully installed dnspython-2.4.2\n"
          ]
        }
      ],
      "source": [
        "!pip install dnspython"
      ]
    },
    {
      "cell_type": "code",
      "execution_count": 47,
      "metadata": {
        "execution": {
          "iopub.execute_input": "2023-10-16T15:06:00.075749Z",
          "iopub.status.busy": "2023-10-16T15:06:00.075355Z",
          "iopub.status.idle": "2023-10-16T15:06:00.872544Z",
          "shell.execute_reply": "2023-10-16T15:06:00.871449Z",
          "shell.execute_reply.started": "2023-10-16T15:06:00.075711Z"
        },
        "id": "694ix2WrCF66",
        "trusted": true
      },
      "outputs": [],
      "source": [
        "import pyspark\n",
        "from pyspark.sql import SparkSession, Row\n",
        "from pyspark.sql.types import IntegerType, FloatType\n",
        "from pyspark.sql.functions import (\n",
        "    col, count, when, isnan, split, size,\n",
        "    array_min, array_max, array_distinct, to_timestamp,\n",
        "    spark_partition_id\n",
        ")\n",
        "\n",
        "import pandas as pd\n",
        "pd.set_option('display.max_columns', None)\n",
        "\n",
        "import psycopg2\n",
        "\n",
        "from tqdm import tqdm"
      ]
    },
    {
      "cell_type": "code",
      "execution_count": 7,
      "metadata": {
        "execution": {
          "iopub.execute_input": "2023-10-16T15:06:00.874930Z",
          "iopub.status.busy": "2023-10-16T15:06:00.874443Z",
          "iopub.status.idle": "2023-10-16T15:06:06.359036Z",
          "shell.execute_reply": "2023-10-16T15:06:06.358090Z",
          "shell.execute_reply.started": "2023-10-16T15:06:00.874896Z"
        },
        "id": "V1rO2dpbCF67",
        "trusted": true
      },
      "outputs": [],
      "source": [
        "spark = SparkSession \\\n",
        "    .builder \\\n",
        "    .config(\"spark.driver.memory\", \"10g\") \\\n",
        "    .config(\"spark.jars\", \"postgresql-42.6.0.jar\") \\\n",
        "    .appName(\"Yelp Review Sense by Yash Raizada\") \\\n",
        "    .getOrCreate()"
      ]
    },
    {
      "cell_type": "code",
      "execution_count": 9,
      "metadata": {
        "colab": {
          "base_uri": "https://localhost:8080/"
        },
        "execution": {
          "iopub.execute_input": "2023-10-16T15:06:06.360468Z",
          "iopub.status.busy": "2023-10-16T15:06:06.360158Z",
          "iopub.status.idle": "2023-10-16T15:08:17.182418Z",
          "shell.execute_reply": "2023-10-16T15:08:17.181125Z",
          "shell.execute_reply.started": "2023-10-16T15:06:06.360443Z"
        },
        "id": "EdjM__BICF67",
        "outputId": "f9c13b14-9e47-41be-8b84-ae86bc6ce8bf",
        "trusted": true
      },
      "outputs": [
        {
          "name": "stdout",
          "output_type": "stream",
          "text": [
            "Dataset_User_Agreement.pdf\n",
            "yelp_academic_dataset_business.json\n",
            "yelp_academic_dataset_checkin.json\n",
            "yelp_academic_dataset_review.json\n",
            "yelp_academic_dataset_tip.json\n",
            "yelp_academic_dataset_user.json\n"
          ]
        }
      ],
      "source": [
        "!tar -xvzf /content/yelp_dataset.tgz"
      ]
    },
    {
      "cell_type": "markdown",
      "metadata": {
        "id": "4m2eW3Q2CF68"
      },
      "source": [
        "## Prepare User Dataset"
      ]
    },
    {
      "cell_type": "markdown",
      "metadata": {
        "execution": {
          "iopub.execute_input": "2023-09-18T23:12:04.973215Z",
          "iopub.status.busy": "2023-09-18T23:12:04.972781Z",
          "iopub.status.idle": "2023-09-18T23:12:05.261974Z",
          "shell.execute_reply": "2023-09-18T23:12:05.260626Z",
          "shell.execute_reply.started": "2023-09-18T23:12:04.973181Z"
        },
        "id": "PmLNIIfGCF69"
      },
      "source": [
        "<img src=\"https://github.com/yashraizada/yelp-review-sense/blob/main/images/Yelp%20User%20Profile.png?raw=true\"/>"
      ]
    },
    {
      "cell_type": "code",
      "execution_count": 10,
      "metadata": {
        "execution": {
          "iopub.execute_input": "2023-10-16T14:44:06.767423Z",
          "iopub.status.busy": "2023-10-16T14:44:06.766921Z",
          "iopub.status.idle": "2023-10-16T14:44:27.878655Z",
          "shell.execute_reply": "2023-10-16T14:44:27.877875Z",
          "shell.execute_reply.started": "2023-10-16T14:44:06.767368Z"
        },
        "id": "s35QOBw3CF69",
        "trusted": true
      },
      "outputs": [],
      "source": [
        "df_user = spark.read.json('yelp_academic_dataset_user.json')"
      ]
    },
    {
      "cell_type": "code",
      "execution_count": 11,
      "metadata": {
        "colab": {
          "base_uri": "https://localhost:8080/"
        },
        "execution": {
          "iopub.execute_input": "2023-10-16T14:44:27.880063Z",
          "iopub.status.busy": "2023-10-16T14:44:27.879806Z",
          "iopub.status.idle": "2023-10-16T14:44:27.910643Z",
          "shell.execute_reply": "2023-10-16T14:44:27.909419Z",
          "shell.execute_reply.started": "2023-10-16T14:44:27.880040Z"
        },
        "id": "TpflOW-lCF6-",
        "outputId": "3c28738f-71cd-403d-bd65-393497174112",
        "trusted": true
      },
      "outputs": [
        {
          "name": "stdout",
          "output_type": "stream",
          "text": [
            "root\n",
            " |-- average_stars: double (nullable = true)\n",
            " |-- compliment_cool: long (nullable = true)\n",
            " |-- compliment_cute: long (nullable = true)\n",
            " |-- compliment_funny: long (nullable = true)\n",
            " |-- compliment_hot: long (nullable = true)\n",
            " |-- compliment_list: long (nullable = true)\n",
            " |-- compliment_more: long (nullable = true)\n",
            " |-- compliment_note: long (nullable = true)\n",
            " |-- compliment_photos: long (nullable = true)\n",
            " |-- compliment_plain: long (nullable = true)\n",
            " |-- compliment_profile: long (nullable = true)\n",
            " |-- compliment_writer: long (nullable = true)\n",
            " |-- cool: long (nullable = true)\n",
            " |-- elite: string (nullable = true)\n",
            " |-- fans: long (nullable = true)\n",
            " |-- friends: string (nullable = true)\n",
            " |-- funny: long (nullable = true)\n",
            " |-- name: string (nullable = true)\n",
            " |-- review_count: long (nullable = true)\n",
            " |-- useful: long (nullable = true)\n",
            " |-- user_id: string (nullable = true)\n",
            " |-- yelping_since: string (nullable = true)\n",
            "\n"
          ]
        }
      ],
      "source": [
        "df_user.printSchema()"
      ]
    },
    {
      "cell_type": "code",
      "execution_count": 12,
      "metadata": {
        "colab": {
          "base_uri": "https://localhost:8080/",
          "height": 261
        },
        "execution": {
          "iopub.execute_input": "2023-10-16T14:44:27.912281Z",
          "iopub.status.busy": "2023-10-16T14:44:27.911886Z",
          "iopub.status.idle": "2023-10-16T14:45:18.939910Z",
          "shell.execute_reply": "2023-10-16T14:45:18.938939Z",
          "shell.execute_reply.started": "2023-10-16T14:44:27.912253Z"
        },
        "id": "jm84H2P1CF6-",
        "outputId": "2826a066-9310-4d80-af51-1c9672996ad7",
        "trusted": true
      },
      "outputs": [
        {
          "data": {
            "text/html": [
              "\n",
              "  <div id=\"df-fd69df41-a15c-4d2d-9afd-547c7ebe0a05\" class=\"colab-df-container\">\n",
              "    <div>\n",
              "<style scoped>\n",
              "    .dataframe tbody tr th:only-of-type {\n",
              "        vertical-align: middle;\n",
              "    }\n",
              "\n",
              "    .dataframe tbody tr th {\n",
              "        vertical-align: top;\n",
              "    }\n",
              "\n",
              "    .dataframe thead th {\n",
              "        text-align: right;\n",
              "    }\n",
              "</style>\n",
              "<table border=\"1\" class=\"dataframe\">\n",
              "  <thead>\n",
              "    <tr style=\"text-align: right;\">\n",
              "      <th></th>\n",
              "      <th>summary</th>\n",
              "      <th>average_stars</th>\n",
              "      <th>compliment_cool</th>\n",
              "      <th>compliment_cute</th>\n",
              "      <th>compliment_funny</th>\n",
              "      <th>compliment_hot</th>\n",
              "      <th>compliment_list</th>\n",
              "      <th>compliment_more</th>\n",
              "      <th>compliment_note</th>\n",
              "      <th>compliment_photos</th>\n",
              "      <th>compliment_plain</th>\n",
              "      <th>compliment_profile</th>\n",
              "      <th>compliment_writer</th>\n",
              "      <th>cool</th>\n",
              "      <th>elite</th>\n",
              "      <th>fans</th>\n",
              "      <th>friends</th>\n",
              "      <th>funny</th>\n",
              "      <th>name</th>\n",
              "      <th>review_count</th>\n",
              "      <th>useful</th>\n",
              "      <th>user_id</th>\n",
              "      <th>yelping_since</th>\n",
              "    </tr>\n",
              "  </thead>\n",
              "  <tbody>\n",
              "    <tr>\n",
              "      <th>0</th>\n",
              "      <td>count</td>\n",
              "      <td>1987897</td>\n",
              "      <td>1987897</td>\n",
              "      <td>1987897</td>\n",
              "      <td>1987897</td>\n",
              "      <td>1987897</td>\n",
              "      <td>1987897</td>\n",
              "      <td>1987897</td>\n",
              "      <td>1987897</td>\n",
              "      <td>1987897</td>\n",
              "      <td>1987897</td>\n",
              "      <td>1987897</td>\n",
              "      <td>1987897</td>\n",
              "      <td>1987897</td>\n",
              "      <td>1987897</td>\n",
              "      <td>1987897</td>\n",
              "      <td>1987897</td>\n",
              "      <td>1987897</td>\n",
              "      <td>1987897</td>\n",
              "      <td>1987897</td>\n",
              "      <td>1987897</td>\n",
              "      <td>1987897</td>\n",
              "      <td>1987897</td>\n",
              "    </tr>\n",
              "    <tr>\n",
              "      <th>1</th>\n",
              "      <td>mean</td>\n",
              "      <td>3.63049415035087</td>\n",
              "      <td>2.8293080577112395</td>\n",
              "      <td>0.13364927860950543</td>\n",
              "      <td>2.8293080577112395</td>\n",
              "      <td>1.8070724992290847</td>\n",
              "      <td>0.06390723463036566</td>\n",
              "      <td>0.29226313033321144</td>\n",
              "      <td>1.4431346292086562</td>\n",
              "      <td>1.226859339291724</td>\n",
              "      <td>3.0118411567601338</td>\n",
              "      <td>0.17931764070271247</td>\n",
              "      <td>1.056448095650831</td>\n",
              "      <td>23.792913817969442</td>\n",
              "      <td>2017.220760233918</td>\n",
              "      <td>1.4657404282012598</td>\n",
              "      <td>None</td>\n",
              "      <td>16.970536199813168</td>\n",
              "      <td>NaN</td>\n",
              "      <td>23.394409267683386</td>\n",
              "      <td>42.29633527290398</td>\n",
              "      <td>None</td>\n",
              "      <td>None</td>\n",
              "    </tr>\n",
              "    <tr>\n",
              "      <th>2</th>\n",
              "      <td>stddev</td>\n",
              "      <td>1.1833369995975145</td>\n",
              "      <td>96.66385446471259</td>\n",
              "      <td>11.356823097797161</td>\n",
              "      <td>96.66385446471259</td>\n",
              "      <td>73.60184094967366</td>\n",
              "      <td>10.04362659411937</td>\n",
              "      <td>12.824667119930178</td>\n",
              "      <td>60.16790049259038</td>\n",
              "      <td>95.1575129716489</td>\n",
              "      <td>119.38980389840354</td>\n",
              "      <td>15.155253377853501</td>\n",
              "      <td>32.17972805346817</td>\n",
              "      <td>565.3512954713351</td>\n",
              "      <td>4.09363504648036</td>\n",
              "      <td>18.13075272385579</td>\n",
              "      <td>None</td>\n",
              "      <td>407.8034374841018</td>\n",
              "      <td>NaN</td>\n",
              "      <td>82.56699161797889</td>\n",
              "      <td>641.4805967755902</td>\n",
              "      <td>None</td>\n",
              "      <td>None</td>\n",
              "    </tr>\n",
              "    <tr>\n",
              "      <th>3</th>\n",
              "      <td>min</td>\n",
              "      <td>1.0</td>\n",
              "      <td>0</td>\n",
              "      <td>0</td>\n",
              "      <td>0</td>\n",
              "      <td>0</td>\n",
              "      <td>0</td>\n",
              "      <td>0</td>\n",
              "      <td>0</td>\n",
              "      <td>0</td>\n",
              "      <td>0</td>\n",
              "      <td>0</td>\n",
              "      <td>0</td>\n",
              "      <td>0</td>\n",
              "      <td></td>\n",
              "      <td>0</td>\n",
              "      <td>---2PmXbF47D870stH1jqA, AgkO3LoVmmW6NyMZdHQmSw...</td>\n",
              "      <td>0</td>\n",
              "      <td>Chris</td>\n",
              "      <td>0</td>\n",
              "      <td>0</td>\n",
              "      <td>---1lKK3aKOuomHnwAkAow</td>\n",
              "      <td>2004-10-12 08:46:11</td>\n",
              "    </tr>\n",
              "    <tr>\n",
              "      <th>4</th>\n",
              "      <td>max</td>\n",
              "      <td>5.0</td>\n",
              "      <td>49967</td>\n",
              "      <td>13654</td>\n",
              "      <td>49967</td>\n",
              "      <td>25784</td>\n",
              "      <td>12669</td>\n",
              "      <td>13501</td>\n",
              "      <td>59031</td>\n",
              "      <td>82630</td>\n",
              "      <td>101097</td>\n",
              "      <td>14180</td>\n",
              "      <td>15934</td>\n",
              "      <td>199878</td>\n",
              "      <td>2021</td>\n",
              "      <td>12497</td>\n",
              "      <td>zzzOOwSYzuTPvsafSCzDPw, djDWZw59RlGHuXKw20kyzQ...</td>\n",
              "      <td>185823</td>\n",
              "      <td>Ｊｏａｎｎｅ</td>\n",
              "      <td>17473</td>\n",
              "      <td>206296</td>\n",
              "      <td>zzzUFM4HFe0SFG0bPjntQA</td>\n",
              "      <td>2022-01-19 17:15:47</td>\n",
              "    </tr>\n",
              "  </tbody>\n",
              "</table>\n",
              "</div>\n",
              "    <div class=\"colab-df-buttons\">\n",
              "\n",
              "  <div class=\"colab-df-container\">\n",
              "    <button class=\"colab-df-convert\" onclick=\"convertToInteractive('df-fd69df41-a15c-4d2d-9afd-547c7ebe0a05')\"\n",
              "            title=\"Convert this dataframe to an interactive table.\"\n",
              "            style=\"display:none;\">\n",
              "\n",
              "  <svg xmlns=\"http://www.w3.org/2000/svg\" height=\"24px\" viewBox=\"0 -960 960 960\">\n",
              "    <path d=\"M120-120v-720h720v720H120Zm60-500h600v-160H180v160Zm220 220h160v-160H400v160Zm0 220h160v-160H400v160ZM180-400h160v-160H180v160Zm440 0h160v-160H620v160ZM180-180h160v-160H180v160Zm440 0h160v-160H620v160Z\"/>\n",
              "  </svg>\n",
              "    </button>\n",
              "\n",
              "  <style>\n",
              "    .colab-df-container {\n",
              "      display:flex;\n",
              "      gap: 12px;\n",
              "    }\n",
              "\n",
              "    .colab-df-convert {\n",
              "      background-color: #E8F0FE;\n",
              "      border: none;\n",
              "      border-radius: 50%;\n",
              "      cursor: pointer;\n",
              "      display: none;\n",
              "      fill: #1967D2;\n",
              "      height: 32px;\n",
              "      padding: 0 0 0 0;\n",
              "      width: 32px;\n",
              "    }\n",
              "\n",
              "    .colab-df-convert:hover {\n",
              "      background-color: #E2EBFA;\n",
              "      box-shadow: 0px 1px 2px rgba(60, 64, 67, 0.3), 0px 1px 3px 1px rgba(60, 64, 67, 0.15);\n",
              "      fill: #174EA6;\n",
              "    }\n",
              "\n",
              "    .colab-df-buttons div {\n",
              "      margin-bottom: 4px;\n",
              "    }\n",
              "\n",
              "    [theme=dark] .colab-df-convert {\n",
              "      background-color: #3B4455;\n",
              "      fill: #D2E3FC;\n",
              "    }\n",
              "\n",
              "    [theme=dark] .colab-df-convert:hover {\n",
              "      background-color: #434B5C;\n",
              "      box-shadow: 0px 1px 3px 1px rgba(0, 0, 0, 0.15);\n",
              "      filter: drop-shadow(0px 1px 2px rgba(0, 0, 0, 0.3));\n",
              "      fill: #FFFFFF;\n",
              "    }\n",
              "  </style>\n",
              "\n",
              "    <script>\n",
              "      const buttonEl =\n",
              "        document.querySelector('#df-fd69df41-a15c-4d2d-9afd-547c7ebe0a05 button.colab-df-convert');\n",
              "      buttonEl.style.display =\n",
              "        google.colab.kernel.accessAllowed ? 'block' : 'none';\n",
              "\n",
              "      async function convertToInteractive(key) {\n",
              "        const element = document.querySelector('#df-fd69df41-a15c-4d2d-9afd-547c7ebe0a05');\n",
              "        const dataTable =\n",
              "          await google.colab.kernel.invokeFunction('convertToInteractive',\n",
              "                                                    [key], {});\n",
              "        if (!dataTable) return;\n",
              "\n",
              "        const docLinkHtml = 'Like what you see? Visit the ' +\n",
              "          '<a target=\"_blank\" href=https://colab.research.google.com/notebooks/data_table.ipynb>data table notebook</a>'\n",
              "          + ' to learn more about interactive tables.';\n",
              "        element.innerHTML = '';\n",
              "        dataTable['output_type'] = 'display_data';\n",
              "        await google.colab.output.renderOutput(dataTable, element);\n",
              "        const docLink = document.createElement('div');\n",
              "        docLink.innerHTML = docLinkHtml;\n",
              "        element.appendChild(docLink);\n",
              "      }\n",
              "    </script>\n",
              "  </div>\n",
              "\n",
              "\n",
              "<div id=\"df-71661141-9441-410c-8ea6-cbe2af394594\">\n",
              "  <button class=\"colab-df-quickchart\" onclick=\"quickchart('df-71661141-9441-410c-8ea6-cbe2af394594')\"\n",
              "            title=\"Suggest charts.\"\n",
              "            style=\"display:none;\">\n",
              "\n",
              "<svg xmlns=\"http://www.w3.org/2000/svg\" height=\"24px\"viewBox=\"0 0 24 24\"\n",
              "     width=\"24px\">\n",
              "    <g>\n",
              "        <path d=\"M19 3H5c-1.1 0-2 .9-2 2v14c0 1.1.9 2 2 2h14c1.1 0 2-.9 2-2V5c0-1.1-.9-2-2-2zM9 17H7v-7h2v7zm4 0h-2V7h2v10zm4 0h-2v-4h2v4z\"/>\n",
              "    </g>\n",
              "</svg>\n",
              "  </button>\n",
              "\n",
              "<style>\n",
              "  .colab-df-quickchart {\n",
              "      --bg-color: #E8F0FE;\n",
              "      --fill-color: #1967D2;\n",
              "      --hover-bg-color: #E2EBFA;\n",
              "      --hover-fill-color: #174EA6;\n",
              "      --disabled-fill-color: #AAA;\n",
              "      --disabled-bg-color: #DDD;\n",
              "  }\n",
              "\n",
              "  [theme=dark] .colab-df-quickchart {\n",
              "      --bg-color: #3B4455;\n",
              "      --fill-color: #D2E3FC;\n",
              "      --hover-bg-color: #434B5C;\n",
              "      --hover-fill-color: #FFFFFF;\n",
              "      --disabled-bg-color: #3B4455;\n",
              "      --disabled-fill-color: #666;\n",
              "  }\n",
              "\n",
              "  .colab-df-quickchart {\n",
              "    background-color: var(--bg-color);\n",
              "    border: none;\n",
              "    border-radius: 50%;\n",
              "    cursor: pointer;\n",
              "    display: none;\n",
              "    fill: var(--fill-color);\n",
              "    height: 32px;\n",
              "    padding: 0;\n",
              "    width: 32px;\n",
              "  }\n",
              "\n",
              "  .colab-df-quickchart:hover {\n",
              "    background-color: var(--hover-bg-color);\n",
              "    box-shadow: 0 1px 2px rgba(60, 64, 67, 0.3), 0 1px 3px 1px rgba(60, 64, 67, 0.15);\n",
              "    fill: var(--button-hover-fill-color);\n",
              "  }\n",
              "\n",
              "  .colab-df-quickchart-complete:disabled,\n",
              "  .colab-df-quickchart-complete:disabled:hover {\n",
              "    background-color: var(--disabled-bg-color);\n",
              "    fill: var(--disabled-fill-color);\n",
              "    box-shadow: none;\n",
              "  }\n",
              "\n",
              "  .colab-df-spinner {\n",
              "    border: 2px solid var(--fill-color);\n",
              "    border-color: transparent;\n",
              "    border-bottom-color: var(--fill-color);\n",
              "    animation:\n",
              "      spin 1s steps(1) infinite;\n",
              "  }\n",
              "\n",
              "  @keyframes spin {\n",
              "    0% {\n",
              "      border-color: transparent;\n",
              "      border-bottom-color: var(--fill-color);\n",
              "      border-left-color: var(--fill-color);\n",
              "    }\n",
              "    20% {\n",
              "      border-color: transparent;\n",
              "      border-left-color: var(--fill-color);\n",
              "      border-top-color: var(--fill-color);\n",
              "    }\n",
              "    30% {\n",
              "      border-color: transparent;\n",
              "      border-left-color: var(--fill-color);\n",
              "      border-top-color: var(--fill-color);\n",
              "      border-right-color: var(--fill-color);\n",
              "    }\n",
              "    40% {\n",
              "      border-color: transparent;\n",
              "      border-right-color: var(--fill-color);\n",
              "      border-top-color: var(--fill-color);\n",
              "    }\n",
              "    60% {\n",
              "      border-color: transparent;\n",
              "      border-right-color: var(--fill-color);\n",
              "    }\n",
              "    80% {\n",
              "      border-color: transparent;\n",
              "      border-right-color: var(--fill-color);\n",
              "      border-bottom-color: var(--fill-color);\n",
              "    }\n",
              "    90% {\n",
              "      border-color: transparent;\n",
              "      border-bottom-color: var(--fill-color);\n",
              "    }\n",
              "  }\n",
              "</style>\n",
              "\n",
              "  <script>\n",
              "    async function quickchart(key) {\n",
              "      const quickchartButtonEl =\n",
              "        document.querySelector('#' + key + ' button');\n",
              "      quickchartButtonEl.disabled = true;  // To prevent multiple clicks.\n",
              "      quickchartButtonEl.classList.add('colab-df-spinner');\n",
              "      try {\n",
              "        const charts = await google.colab.kernel.invokeFunction(\n",
              "            'suggestCharts', [key], {});\n",
              "      } catch (error) {\n",
              "        console.error('Error during call to suggestCharts:', error);\n",
              "      }\n",
              "      quickchartButtonEl.classList.remove('colab-df-spinner');\n",
              "      quickchartButtonEl.classList.add('colab-df-quickchart-complete');\n",
              "    }\n",
              "    (() => {\n",
              "      let quickchartButtonEl =\n",
              "        document.querySelector('#df-71661141-9441-410c-8ea6-cbe2af394594 button');\n",
              "      quickchartButtonEl.style.display =\n",
              "        google.colab.kernel.accessAllowed ? 'block' : 'none';\n",
              "    })();\n",
              "  </script>\n",
              "</div>\n",
              "    </div>\n",
              "  </div>\n"
            ],
            "text/plain": [
              "  summary       average_stars     compliment_cool      compliment_cute  \\\n",
              "0   count             1987897             1987897              1987897   \n",
              "1    mean    3.63049415035087  2.8293080577112395  0.13364927860950543   \n",
              "2  stddev  1.1833369995975145   96.66385446471259   11.356823097797161   \n",
              "3     min                 1.0                   0                    0   \n",
              "4     max                 5.0               49967                13654   \n",
              "\n",
              "     compliment_funny      compliment_hot      compliment_list  \\\n",
              "0             1987897             1987897              1987897   \n",
              "1  2.8293080577112395  1.8070724992290847  0.06390723463036566   \n",
              "2   96.66385446471259   73.60184094967366    10.04362659411937   \n",
              "3                   0                   0                    0   \n",
              "4               49967               25784                12669   \n",
              "\n",
              "       compliment_more     compliment_note  compliment_photos  \\\n",
              "0              1987897             1987897            1987897   \n",
              "1  0.29226313033321144  1.4431346292086562  1.226859339291724   \n",
              "2   12.824667119930178   60.16790049259038   95.1575129716489   \n",
              "3                    0                   0                  0   \n",
              "4                13501               59031              82630   \n",
              "\n",
              "     compliment_plain   compliment_profile  compliment_writer  \\\n",
              "0             1987897              1987897            1987897   \n",
              "1  3.0118411567601338  0.17931764070271247  1.056448095650831   \n",
              "2  119.38980389840354   15.155253377853501  32.17972805346817   \n",
              "3                   0                    0                  0   \n",
              "4              101097                14180              15934   \n",
              "\n",
              "                 cool              elite                fans  \\\n",
              "0             1987897            1987897             1987897   \n",
              "1  23.792913817969442  2017.220760233918  1.4657404282012598   \n",
              "2   565.3512954713351   4.09363504648036   18.13075272385579   \n",
              "3                   0                                      0   \n",
              "4              199878               2021               12497   \n",
              "\n",
              "                                             friends               funny  \\\n",
              "0                                            1987897             1987897   \n",
              "1                                               None  16.970536199813168   \n",
              "2                                               None   407.8034374841018   \n",
              "3  ---2PmXbF47D870stH1jqA, AgkO3LoVmmW6NyMZdHQmSw...                   0   \n",
              "4  zzzOOwSYzuTPvsafSCzDPw, djDWZw59RlGHuXKw20kyzQ...              185823   \n",
              "\n",
              "       name        review_count             useful                 user_id  \\\n",
              "0   1987897             1987897            1987897                 1987897   \n",
              "1       NaN  23.394409267683386  42.29633527290398                    None   \n",
              "2       NaN   82.56699161797889  641.4805967755902                    None   \n",
              "3     Chris                   0                  0  ---1lKK3aKOuomHnwAkAow   \n",
              "4    Ｊｏａｎｎｅ               17473             206296  zzzUFM4HFe0SFG0bPjntQA   \n",
              "\n",
              "         yelping_since  \n",
              "0              1987897  \n",
              "1                 None  \n",
              "2                 None  \n",
              "3  2004-10-12 08:46:11  \n",
              "4  2022-01-19 17:15:47  "
            ]
          },
          "execution_count": 12,
          "metadata": {},
          "output_type": "execute_result"
        }
      ],
      "source": [
        "df_user.describe().toPandas()"
      ]
    },
    {
      "cell_type": "code",
      "execution_count": 13,
      "metadata": {
        "colab": {
          "base_uri": "https://localhost:8080/"
        },
        "execution": {
          "iopub.execute_input": "2023-10-16T14:45:18.942103Z",
          "iopub.status.busy": "2023-10-16T14:45:18.941536Z",
          "iopub.status.idle": "2023-10-16T14:45:51.556950Z",
          "shell.execute_reply": "2023-10-16T14:45:51.555916Z",
          "shell.execute_reply.started": "2023-10-16T14:45:18.942067Z"
        },
        "id": "F-OFp_TuCF6-",
        "outputId": "0fea7e75-9321-4fdc-dd65-adc3c445b8c8",
        "trusted": true
      },
      "outputs": [
        {
          "name": "stdout",
          "output_type": "stream",
          "text": [
            "+-------------+---------------+---------------+----------------+--------------+---------------+---------------+---------------+-----------------+----------------+------------------+-----------------+----+-----+----+-------+-----+----+------------+------+-------+-------------+\n",
            "|average_stars|compliment_cool|compliment_cute|compliment_funny|compliment_hot|compliment_list|compliment_more|compliment_note|compliment_photos|compliment_plain|compliment_profile|compliment_writer|cool|elite|fans|friends|funny|name|review_count|useful|user_id|yelping_since|\n",
            "+-------------+---------------+---------------+----------------+--------------+---------------+---------------+---------------+-----------------+----------------+------------------+-----------------+----+-----+----+-------+-----+----+------------+------+-------+-------------+\n",
            "|            0|              0|              0|               0|             0|              0|              0|              0|                0|               0|                 0|                0|   0|    0|   0|      0|    0| 198|           0|     0|      0|            0|\n",
            "+-------------+---------------+---------------+----------------+--------------+---------------+---------------+---------------+-----------------+----------------+------------------+-----------------+----+-----+----+-------+-----+----+------------+------+-------+-------------+\n",
            "\n"
          ]
        }
      ],
      "source": [
        "df_user.select([count(when(isnan(c) | col(c).isNull(), c)).alias(c) for c in df_user.columns]).show()"
      ]
    },
    {
      "cell_type": "markdown",
      "metadata": {
        "execution": {
          "iopub.execute_input": "2023-09-20T19:15:43.477426Z",
          "iopub.status.busy": "2023-09-20T19:15:43.477002Z",
          "iopub.status.idle": "2023-09-20T19:15:43.485320Z",
          "shell.execute_reply": "2023-09-20T19:15:43.483878Z",
          "shell.execute_reply.started": "2023-09-20T19:15:43.477379Z"
        },
        "id": "dqI0oh2CCF6-"
      },
      "source": [
        "## Data Preparation\n",
        "\n",
        "### 1. Consolidating Compliment Columns\n",
        "The compliment columns, such as \"compliment_cool,\" \"compliment_cute,\" and others, contain information about various types of compliments that users have received or given. Consolidating multiple compliment columns into one will simplify the dataset, enhance interpretability, and reduce redundancy, facilitating a more comprehensive understanding of user engagement.\n",
        "\n",
        "### 2. Combining Interaction Columns\n",
        "For the same reasons as consolidating the compliments columns, combining the 'useful,' 'funny,' and 'cool' columns into 'total_interactions'\n",
        "\n",
        "### 3. Extracting Information from \"Elite\" and \"Friends\" Columns\n",
        "The \"elite\" and \"friends\" columns are of string data type containing multiple values (years and user IDs, respectively) delimited by a comma. They are not inherently informative for meaningful analysis. To enable a more robust analysis, we can extract information such as the number of elite years, number of friends, etc.\n",
        "\n",
        "### 4. Dropping Redundant Columns\n",
        "The \"name\" column is redundant and needs to be dropped.\n",
        "\n",
        "### 5. Optimizing Data Types\n",
        "The data types for the 'fans,' 'review_count,' 'total_compliments,' and 'total_interactions' columns are not the most efficient representations for the data they contain. Changing to Integer as it better aligns with the nature of the data and optimizes memory usage."
      ]
    },
    {
      "cell_type": "code",
      "execution_count": 14,
      "metadata": {
        "execution": {
          "iopub.execute_input": "2023-10-16T14:45:51.565652Z",
          "iopub.status.busy": "2023-10-16T14:45:51.563164Z",
          "iopub.status.idle": "2023-10-16T14:45:51.647865Z",
          "shell.execute_reply": "2023-10-16T14:45:51.646746Z",
          "shell.execute_reply.started": "2023-10-16T14:45:51.565611Z"
        },
        "id": "vdyiHQb_CF6_",
        "trusted": true
      },
      "outputs": [],
      "source": [
        "# 1. Consolidating Compliment Columns\n",
        "compliment_columns = [\n",
        "    'compliment_cool', 'compliment_cute', 'compliment_funny','compliment_hot', 'compliment_list', 'compliment_more',\n",
        "    'compliment_note', 'compliment_photos', 'compliment_plain','compliment_profile', 'compliment_writer'\n",
        "]\n",
        "\n",
        "df_user = df_user.withColumn('total_compliments', sum(col(col_name) for col_name in compliment_columns))\n",
        "df_user = df_user.drop(*compliment_columns)"
      ]
    },
    {
      "cell_type": "code",
      "execution_count": 15,
      "metadata": {
        "execution": {
          "iopub.execute_input": "2023-10-16T14:45:51.649385Z",
          "iopub.status.busy": "2023-10-16T14:45:51.649015Z",
          "iopub.status.idle": "2023-10-16T14:45:51.684379Z",
          "shell.execute_reply": "2023-10-16T14:45:51.683201Z",
          "shell.execute_reply.started": "2023-10-16T14:45:51.649333Z"
        },
        "id": "k3hTJOM4CF6_",
        "trusted": true
      },
      "outputs": [],
      "source": [
        "# 2. Combining Interaction Columns\n",
        "interaction_columns = ['useful', 'funny', 'cool']\n",
        "\n",
        "df_user = df_user.withColumn('total_interactions', sum(col(col_name) for col_name in interaction_columns))\n",
        "df_user = df_user.drop(*interaction_columns)"
      ]
    },
    {
      "cell_type": "code",
      "execution_count": 16,
      "metadata": {
        "execution": {
          "iopub.execute_input": "2023-10-16T14:45:51.685980Z",
          "iopub.status.busy": "2023-10-16T14:45:51.685607Z",
          "iopub.status.idle": "2023-10-16T14:45:51.835315Z",
          "shell.execute_reply": "2023-10-16T14:45:51.834280Z",
          "shell.execute_reply.started": "2023-10-16T14:45:51.685939Z"
        },
        "id": "9eeVPreCCF6_",
        "trusted": true
      },
      "outputs": [],
      "source": [
        "# 3. Extracting Information from \"Elite\" and \"Friends\" Columns\n",
        "df_user = df_user.withColumn('elite_years_array', split(df_user['elite'], \",\"))\n",
        "df_user = df_user.withColumn('elite_years_count', when(df_user['elite'] != \"\", size(df_user['elite_years_array'])).otherwise(0)) \\\n",
        "                 .withColumn('elite_min_year', when(df_user['elite'] != \"\", array_min(df_user['elite_years_array']).cast('integer')).otherwise(0)) \\\n",
        "                 .withColumn('elite_max_year', when(df_user['elite'] != \"\", array_max(df_user['elite_years_array']).cast('integer')).otherwise(0))\n",
        "\n",
        "df_user = df_user.withColumn('friends_list', split(df_user['friends'], \",\"))\n",
        "df_user = df_user.withColumn('friends_count', size(array_distinct(df_user['friends_list'])))\n",
        "\n",
        "columns_to_drop = ['elite', 'elite_years_array', 'friends', 'friends_list']\n",
        "df_user = df_user.drop(*columns_to_drop)"
      ]
    },
    {
      "cell_type": "code",
      "execution_count": 17,
      "metadata": {
        "execution": {
          "iopub.execute_input": "2023-10-16T14:45:51.838145Z",
          "iopub.status.busy": "2023-10-16T14:45:51.836493Z",
          "iopub.status.idle": "2023-10-16T14:45:51.852018Z",
          "shell.execute_reply": "2023-10-16T14:45:51.851002Z",
          "shell.execute_reply.started": "2023-10-16T14:45:51.838105Z"
        },
        "id": "rRTIgiL4CF6_",
        "trusted": true
      },
      "outputs": [],
      "source": [
        "# 4. Dropping Redundant Columns\n",
        "columns_to_drop = ['name']\n",
        "df_user = df_user.drop(*columns_to_drop)"
      ]
    },
    {
      "cell_type": "code",
      "execution_count": 18,
      "metadata": {
        "execution": {
          "iopub.execute_input": "2023-10-16T14:45:51.853487Z",
          "iopub.status.busy": "2023-10-16T14:45:51.853112Z",
          "iopub.status.idle": "2023-10-16T14:45:51.965318Z",
          "shell.execute_reply": "2023-10-16T14:45:51.964285Z",
          "shell.execute_reply.started": "2023-10-16T14:45:51.853454Z"
        },
        "id": "Jy9xXSjgCF6_",
        "trusted": true
      },
      "outputs": [],
      "source": [
        "# 5. Optimizing Data Types\n",
        "int_columns = ['fans', 'review_count', 'total_compliments', 'total_interactions']\n",
        "\n",
        "for col_name in int_columns:\n",
        "    df_user = df_user.withColumn(col_name, df_user[col_name].cast(IntegerType()))\n",
        "\n",
        "df_user = df_user.withColumn('yelping_since', to_timestamp(df_user['yelping_since'], 'yyyy-MM-dd HH:mm:ss'))"
      ]
    },
    {
      "cell_type": "code",
      "execution_count": 19,
      "metadata": {
        "colab": {
          "base_uri": "https://localhost:8080/"
        },
        "execution": {
          "iopub.execute_input": "2023-10-16T14:45:51.966808Z",
          "iopub.status.busy": "2023-10-16T14:45:51.966461Z",
          "iopub.status.idle": "2023-10-16T14:45:51.972727Z",
          "shell.execute_reply": "2023-10-16T14:45:51.971880Z",
          "shell.execute_reply.started": "2023-10-16T14:45:51.966778Z"
        },
        "id": "3byYwCLPCF6_",
        "outputId": "7f6b712d-269c-4d58-90d4-91f7736a7b45",
        "trusted": true
      },
      "outputs": [
        {
          "name": "stdout",
          "output_type": "stream",
          "text": [
            "root\n",
            " |-- average_stars: double (nullable = true)\n",
            " |-- fans: integer (nullable = true)\n",
            " |-- review_count: integer (nullable = true)\n",
            " |-- user_id: string (nullable = true)\n",
            " |-- yelping_since: timestamp (nullable = true)\n",
            " |-- total_compliments: integer (nullable = true)\n",
            " |-- total_interactions: integer (nullable = true)\n",
            " |-- elite_years_count: integer (nullable = false)\n",
            " |-- elite_min_year: integer (nullable = true)\n",
            " |-- elite_max_year: integer (nullable = true)\n",
            " |-- friends_count: integer (nullable = false)\n",
            "\n"
          ]
        }
      ],
      "source": [
        "df_user.printSchema()"
      ]
    },
    {
      "cell_type": "code",
      "execution_count": 20,
      "metadata": {
        "colab": {
          "base_uri": "https://localhost:8080/"
        },
        "execution": {
          "iopub.execute_input": "2023-10-16T14:45:51.974928Z",
          "iopub.status.busy": "2023-10-16T14:45:51.974274Z",
          "iopub.status.idle": "2023-10-16T14:45:52.418524Z",
          "shell.execute_reply": "2023-10-16T14:45:52.417396Z",
          "shell.execute_reply.started": "2023-10-16T14:45:51.974894Z"
        },
        "id": "OZ-VPbhLCF6_",
        "outputId": "d55dd9a7-f915-4aee-b6e5-d1961c470d4b",
        "trusted": true
      },
      "outputs": [
        {
          "name": "stdout",
          "output_type": "stream",
          "text": [
            "+--------------------+-------------------+------------+-------------+----+-------------+------------------+-----------------+-----------------+--------------+--------------+\n",
            "|             user_id|      yelping_since|review_count|average_stars|fans|friends_count|total_interactions|total_compliments|elite_years_count|elite_min_year|elite_max_year|\n",
            "+--------------------+-------------------+------------+-------------+----+-------------+------------------+-----------------+-----------------+--------------+--------------+\n",
            "|qVc8ODYU5SZjKXVBg...|2007-01-25 16:47:26|         585|         3.91| 267|        14995|             14470|             2873|                1|          2007|          2007|\n",
            "|j14WgRoU_-2ZE1aw1...|2009-01-25 04:35:42|        4333|         3.74|3138|         4646|             83438|            20631|               14|            20|          2021|\n",
            "|2WnXYQFK0hXEoTxPt...|2008-07-25 10:41:00|         665|         3.32|  52|          381|              4099|              585|                5|          2009|          2013|\n",
            "|SZDeASXq7o05mMNLs...|2005-11-29 04:38:33|         224|         4.27|  28|          131|              1141|              136|                3|          2009|          2011|\n",
            "|hA5lMy-EnncsH4JoR...|2007-01-05 19:40:59|          79|         3.54|   1|           27|                51|                4|                0|             0|             0|\n",
            "+--------------------+-------------------+------------+-------------+----+-------------+------------------+-----------------+-----------------+--------------+--------------+\n",
            "only showing top 5 rows\n",
            "\n"
          ]
        }
      ],
      "source": [
        "column_order = [\n",
        "    \"user_id\",\n",
        "    \"yelping_since\",\n",
        "    \"review_count\",\n",
        "    \"average_stars\",\n",
        "    \"fans\",\n",
        "    \"friends_count\",\n",
        "    \"total_interactions\",\n",
        "    \"total_compliments\",\n",
        "    \"elite_years_count\",\n",
        "    \"elite_min_year\",\n",
        "    \"elite_max_year\"\n",
        "]\n",
        "\n",
        "df_user = df_user.select(column_order)\n",
        "df_user.show(5)"
      ]
    },
    {
      "cell_type": "markdown",
      "metadata": {
        "id": "kX4X2MCmCF7A"
      },
      "source": [
        "## Prepare Business Dataset"
      ]
    },
    {
      "cell_type": "markdown",
      "metadata": {
        "execution": {
          "iopub.execute_input": "2023-09-19T00:17:39.455262Z",
          "iopub.status.busy": "2023-09-19T00:17:39.454929Z",
          "iopub.status.idle": "2023-09-19T00:17:39.462022Z",
          "shell.execute_reply": "2023-09-19T00:17:39.459989Z",
          "shell.execute_reply.started": "2023-09-19T00:17:39.455235Z"
        },
        "id": "ceZ3-tQkCF7A"
      },
      "source": [
        "<img src=\"https://github.com/yashraizada/yelp-review-sense/blob/main/images/Yelp%20Business%20Profile.png?raw=true\"/>"
      ]
    },
    {
      "cell_type": "code",
      "execution_count": 21,
      "metadata": {
        "execution": {
          "iopub.execute_input": "2023-10-16T14:45:52.420052Z",
          "iopub.status.busy": "2023-10-16T14:45:52.419672Z",
          "iopub.status.idle": "2023-10-16T14:45:54.535424Z",
          "shell.execute_reply": "2023-10-16T14:45:54.534552Z",
          "shell.execute_reply.started": "2023-10-16T14:45:52.420016Z"
        },
        "id": "wAn5QdiJCF7A",
        "trusted": true
      },
      "outputs": [],
      "source": [
        "df_business = spark.read.json('yelp_academic_dataset_business.json')"
      ]
    },
    {
      "cell_type": "code",
      "execution_count": 22,
      "metadata": {
        "colab": {
          "base_uri": "https://localhost:8080/"
        },
        "execution": {
          "iopub.execute_input": "2023-10-16T14:45:54.536711Z",
          "iopub.status.busy": "2023-10-16T14:45:54.536463Z",
          "iopub.status.idle": "2023-10-16T14:45:54.542361Z",
          "shell.execute_reply": "2023-10-16T14:45:54.541607Z",
          "shell.execute_reply.started": "2023-10-16T14:45:54.536688Z"
        },
        "id": "6rpl_LVwCF7A",
        "outputId": "29c77cf4-7eb3-45b1-c887-ddd9d4c9bef7",
        "trusted": true
      },
      "outputs": [
        {
          "name": "stdout",
          "output_type": "stream",
          "text": [
            "root\n",
            " |-- address: string (nullable = true)\n",
            " |-- attributes: struct (nullable = true)\n",
            " |    |-- AcceptsInsurance: string (nullable = true)\n",
            " |    |-- AgesAllowed: string (nullable = true)\n",
            " |    |-- Alcohol: string (nullable = true)\n",
            " |    |-- Ambience: string (nullable = true)\n",
            " |    |-- BYOB: string (nullable = true)\n",
            " |    |-- BYOBCorkage: string (nullable = true)\n",
            " |    |-- BestNights: string (nullable = true)\n",
            " |    |-- BikeParking: string (nullable = true)\n",
            " |    |-- BusinessAcceptsBitcoin: string (nullable = true)\n",
            " |    |-- BusinessAcceptsCreditCards: string (nullable = true)\n",
            " |    |-- BusinessParking: string (nullable = true)\n",
            " |    |-- ByAppointmentOnly: string (nullable = true)\n",
            " |    |-- Caters: string (nullable = true)\n",
            " |    |-- CoatCheck: string (nullable = true)\n",
            " |    |-- Corkage: string (nullable = true)\n",
            " |    |-- DietaryRestrictions: string (nullable = true)\n",
            " |    |-- DogsAllowed: string (nullable = true)\n",
            " |    |-- DriveThru: string (nullable = true)\n",
            " |    |-- GoodForDancing: string (nullable = true)\n",
            " |    |-- GoodForKids: string (nullable = true)\n",
            " |    |-- GoodForMeal: string (nullable = true)\n",
            " |    |-- HairSpecializesIn: string (nullable = true)\n",
            " |    |-- HappyHour: string (nullable = true)\n",
            " |    |-- HasTV: string (nullable = true)\n",
            " |    |-- Music: string (nullable = true)\n",
            " |    |-- NoiseLevel: string (nullable = true)\n",
            " |    |-- Open24Hours: string (nullable = true)\n",
            " |    |-- OutdoorSeating: string (nullable = true)\n",
            " |    |-- RestaurantsAttire: string (nullable = true)\n",
            " |    |-- RestaurantsCounterService: string (nullable = true)\n",
            " |    |-- RestaurantsDelivery: string (nullable = true)\n",
            " |    |-- RestaurantsGoodForGroups: string (nullable = true)\n",
            " |    |-- RestaurantsPriceRange2: string (nullable = true)\n",
            " |    |-- RestaurantsReservations: string (nullable = true)\n",
            " |    |-- RestaurantsTableService: string (nullable = true)\n",
            " |    |-- RestaurantsTakeOut: string (nullable = true)\n",
            " |    |-- Smoking: string (nullable = true)\n",
            " |    |-- WheelchairAccessible: string (nullable = true)\n",
            " |    |-- WiFi: string (nullable = true)\n",
            " |-- business_id: string (nullable = true)\n",
            " |-- categories: string (nullable = true)\n",
            " |-- city: string (nullable = true)\n",
            " |-- hours: struct (nullable = true)\n",
            " |    |-- Friday: string (nullable = true)\n",
            " |    |-- Monday: string (nullable = true)\n",
            " |    |-- Saturday: string (nullable = true)\n",
            " |    |-- Sunday: string (nullable = true)\n",
            " |    |-- Thursday: string (nullable = true)\n",
            " |    |-- Tuesday: string (nullable = true)\n",
            " |    |-- Wednesday: string (nullable = true)\n",
            " |-- is_open: long (nullable = true)\n",
            " |-- latitude: double (nullable = true)\n",
            " |-- longitude: double (nullable = true)\n",
            " |-- name: string (nullable = true)\n",
            " |-- postal_code: string (nullable = true)\n",
            " |-- review_count: long (nullable = true)\n",
            " |-- stars: double (nullable = true)\n",
            " |-- state: string (nullable = true)\n",
            "\n"
          ]
        }
      ],
      "source": [
        "df_business.printSchema()"
      ]
    },
    {
      "cell_type": "code",
      "execution_count": 23,
      "metadata": {
        "execution": {
          "iopub.execute_input": "2023-10-16T14:45:54.544200Z",
          "iopub.status.busy": "2023-10-16T14:45:54.543617Z",
          "iopub.status.idle": "2023-10-16T14:45:54.557924Z",
          "shell.execute_reply": "2023-10-16T14:45:54.557253Z",
          "shell.execute_reply.started": "2023-10-16T14:45:54.544088Z"
        },
        "id": "GAeD0ETiCF7A",
        "trusted": true
      },
      "outputs": [],
      "source": [
        "# Dropping 'attributes' and 'hours' cppulmns to help streamline the dataset and focus on the most relevant variables\n",
        "\n",
        "struct_columns_to_drop = ['attributes', 'hours']\n",
        "df_business = df_business.drop(*struct_columns_to_drop)"
      ]
    },
    {
      "cell_type": "code",
      "execution_count": 24,
      "metadata": {
        "colab": {
          "base_uri": "https://localhost:8080/",
          "height": 348
        },
        "execution": {
          "iopub.execute_input": "2023-10-16T14:45:54.559670Z",
          "iopub.status.busy": "2023-10-16T14:45:54.558907Z",
          "iopub.status.idle": "2023-10-16T14:45:59.356672Z",
          "shell.execute_reply": "2023-10-16T14:45:59.355578Z",
          "shell.execute_reply.started": "2023-10-16T14:45:54.559635Z"
        },
        "id": "aT9quXwTCF7A",
        "outputId": "bf9eaf05-d931-48a0-ae0e-dd9562aad2bb",
        "trusted": true
      },
      "outputs": [
        {
          "data": {
            "text/html": [
              "\n",
              "  <div id=\"df-73013a9b-590d-4883-9cbf-7cc6981f96be\" class=\"colab-df-container\">\n",
              "    <div>\n",
              "<style scoped>\n",
              "    .dataframe tbody tr th:only-of-type {\n",
              "        vertical-align: middle;\n",
              "    }\n",
              "\n",
              "    .dataframe tbody tr th {\n",
              "        vertical-align: top;\n",
              "    }\n",
              "\n",
              "    .dataframe thead th {\n",
              "        text-align: right;\n",
              "    }\n",
              "</style>\n",
              "<table border=\"1\" class=\"dataframe\">\n",
              "  <thead>\n",
              "    <tr style=\"text-align: right;\">\n",
              "      <th></th>\n",
              "      <th>summary</th>\n",
              "      <th>address</th>\n",
              "      <th>business_id</th>\n",
              "      <th>categories</th>\n",
              "      <th>city</th>\n",
              "      <th>is_open</th>\n",
              "      <th>latitude</th>\n",
              "      <th>longitude</th>\n",
              "      <th>name</th>\n",
              "      <th>postal_code</th>\n",
              "      <th>review_count</th>\n",
              "      <th>stars</th>\n",
              "      <th>state</th>\n",
              "    </tr>\n",
              "  </thead>\n",
              "  <tbody>\n",
              "    <tr>\n",
              "      <th>0</th>\n",
              "      <td>count</td>\n",
              "      <td>150346</td>\n",
              "      <td>150346</td>\n",
              "      <td>150243</td>\n",
              "      <td>150346</td>\n",
              "      <td>150346</td>\n",
              "      <td>150346</td>\n",
              "      <td>150346</td>\n",
              "      <td>150346</td>\n",
              "      <td>150346</td>\n",
              "      <td>150346</td>\n",
              "      <td>150346</td>\n",
              "      <td>150346</td>\n",
              "    </tr>\n",
              "    <tr>\n",
              "      <th>1</th>\n",
              "      <td>mean</td>\n",
              "      <td>7369.333333333333</td>\n",
              "      <td>None</td>\n",
              "      <td>None</td>\n",
              "      <td>None</td>\n",
              "      <td>0.7961502135075094</td>\n",
              "      <td>36.67115006414526</td>\n",
              "      <td>-89.35733948971448</td>\n",
              "      <td>1252.4</td>\n",
              "      <td>45177.81755426108</td>\n",
              "      <td>44.86656113232144</td>\n",
              "      <td>3.5967235576603303</td>\n",
              "      <td>None</td>\n",
              "    </tr>\n",
              "    <tr>\n",
              "      <th>2</th>\n",
              "      <td>stddev</td>\n",
              "      <td>8738.777641447725</td>\n",
              "      <td>None</td>\n",
              "      <td>None</td>\n",
              "      <td>None</td>\n",
              "      <td>0.402859939090063</td>\n",
              "      <td>5.872758917014039</td>\n",
              "      <td>14.918501679930593</td>\n",
              "      <td>811.1275005954503</td>\n",
              "      <td>26395.882085856578</td>\n",
              "      <td>121.12013570117037</td>\n",
              "      <td>0.9744207509201411</td>\n",
              "      <td>None</td>\n",
              "    </tr>\n",
              "    <tr>\n",
              "      <th>3</th>\n",
              "      <td>min</td>\n",
              "      <td></td>\n",
              "      <td>---kPU91CF4Lq2-WlRu9Lw</td>\n",
              "      <td>3D Printing, Local Services, Hobby Shops, Shop...</td>\n",
              "      <td>AB Edmonton</td>\n",
              "      <td>0</td>\n",
              "      <td>27.555127</td>\n",
              "      <td>-120.095137</td>\n",
              "      <td>Grow Academy</td>\n",
              "      <td></td>\n",
              "      <td>5</td>\n",
              "      <td>1.0</td>\n",
              "      <td>AB</td>\n",
              "    </tr>\n",
              "    <tr>\n",
              "      <th>4</th>\n",
              "      <td>max</td>\n",
              "      <td>​185 E State St</td>\n",
              "      <td>zzyx5x0Z7xXWWvWnZFuxlQ</td>\n",
              "      <td>Zoos, Tours, Arts &amp; Entertainment, Hotels &amp; Tr...</td>\n",
              "      <td>​Lithia</td>\n",
              "      <td>1</td>\n",
              "      <td>53.6791969</td>\n",
              "      <td>-73.2004570502</td>\n",
              "      <td>​​Transformational Abdominal Massage by Jada D...</td>\n",
              "      <td>T9E 0V3</td>\n",
              "      <td>7568</td>\n",
              "      <td>5.0</td>\n",
              "      <td>XMS</td>\n",
              "    </tr>\n",
              "  </tbody>\n",
              "</table>\n",
              "</div>\n",
              "    <div class=\"colab-df-buttons\">\n",
              "\n",
              "  <div class=\"colab-df-container\">\n",
              "    <button class=\"colab-df-convert\" onclick=\"convertToInteractive('df-73013a9b-590d-4883-9cbf-7cc6981f96be')\"\n",
              "            title=\"Convert this dataframe to an interactive table.\"\n",
              "            style=\"display:none;\">\n",
              "\n",
              "  <svg xmlns=\"http://www.w3.org/2000/svg\" height=\"24px\" viewBox=\"0 -960 960 960\">\n",
              "    <path d=\"M120-120v-720h720v720H120Zm60-500h600v-160H180v160Zm220 220h160v-160H400v160Zm0 220h160v-160H400v160ZM180-400h160v-160H180v160Zm440 0h160v-160H620v160ZM180-180h160v-160H180v160Zm440 0h160v-160H620v160Z\"/>\n",
              "  </svg>\n",
              "    </button>\n",
              "\n",
              "  <style>\n",
              "    .colab-df-container {\n",
              "      display:flex;\n",
              "      gap: 12px;\n",
              "    }\n",
              "\n",
              "    .colab-df-convert {\n",
              "      background-color: #E8F0FE;\n",
              "      border: none;\n",
              "      border-radius: 50%;\n",
              "      cursor: pointer;\n",
              "      display: none;\n",
              "      fill: #1967D2;\n",
              "      height: 32px;\n",
              "      padding: 0 0 0 0;\n",
              "      width: 32px;\n",
              "    }\n",
              "\n",
              "    .colab-df-convert:hover {\n",
              "      background-color: #E2EBFA;\n",
              "      box-shadow: 0px 1px 2px rgba(60, 64, 67, 0.3), 0px 1px 3px 1px rgba(60, 64, 67, 0.15);\n",
              "      fill: #174EA6;\n",
              "    }\n",
              "\n",
              "    .colab-df-buttons div {\n",
              "      margin-bottom: 4px;\n",
              "    }\n",
              "\n",
              "    [theme=dark] .colab-df-convert {\n",
              "      background-color: #3B4455;\n",
              "      fill: #D2E3FC;\n",
              "    }\n",
              "\n",
              "    [theme=dark] .colab-df-convert:hover {\n",
              "      background-color: #434B5C;\n",
              "      box-shadow: 0px 1px 3px 1px rgba(0, 0, 0, 0.15);\n",
              "      filter: drop-shadow(0px 1px 2px rgba(0, 0, 0, 0.3));\n",
              "      fill: #FFFFFF;\n",
              "    }\n",
              "  </style>\n",
              "\n",
              "    <script>\n",
              "      const buttonEl =\n",
              "        document.querySelector('#df-73013a9b-590d-4883-9cbf-7cc6981f96be button.colab-df-convert');\n",
              "      buttonEl.style.display =\n",
              "        google.colab.kernel.accessAllowed ? 'block' : 'none';\n",
              "\n",
              "      async function convertToInteractive(key) {\n",
              "        const element = document.querySelector('#df-73013a9b-590d-4883-9cbf-7cc6981f96be');\n",
              "        const dataTable =\n",
              "          await google.colab.kernel.invokeFunction('convertToInteractive',\n",
              "                                                    [key], {});\n",
              "        if (!dataTable) return;\n",
              "\n",
              "        const docLinkHtml = 'Like what you see? Visit the ' +\n",
              "          '<a target=\"_blank\" href=https://colab.research.google.com/notebooks/data_table.ipynb>data table notebook</a>'\n",
              "          + ' to learn more about interactive tables.';\n",
              "        element.innerHTML = '';\n",
              "        dataTable['output_type'] = 'display_data';\n",
              "        await google.colab.output.renderOutput(dataTable, element);\n",
              "        const docLink = document.createElement('div');\n",
              "        docLink.innerHTML = docLinkHtml;\n",
              "        element.appendChild(docLink);\n",
              "      }\n",
              "    </script>\n",
              "  </div>\n",
              "\n",
              "\n",
              "<div id=\"df-0165941c-4fac-4399-842d-411493de6f22\">\n",
              "  <button class=\"colab-df-quickchart\" onclick=\"quickchart('df-0165941c-4fac-4399-842d-411493de6f22')\"\n",
              "            title=\"Suggest charts.\"\n",
              "            style=\"display:none;\">\n",
              "\n",
              "<svg xmlns=\"http://www.w3.org/2000/svg\" height=\"24px\"viewBox=\"0 0 24 24\"\n",
              "     width=\"24px\">\n",
              "    <g>\n",
              "        <path d=\"M19 3H5c-1.1 0-2 .9-2 2v14c0 1.1.9 2 2 2h14c1.1 0 2-.9 2-2V5c0-1.1-.9-2-2-2zM9 17H7v-7h2v7zm4 0h-2V7h2v10zm4 0h-2v-4h2v4z\"/>\n",
              "    </g>\n",
              "</svg>\n",
              "  </button>\n",
              "\n",
              "<style>\n",
              "  .colab-df-quickchart {\n",
              "      --bg-color: #E8F0FE;\n",
              "      --fill-color: #1967D2;\n",
              "      --hover-bg-color: #E2EBFA;\n",
              "      --hover-fill-color: #174EA6;\n",
              "      --disabled-fill-color: #AAA;\n",
              "      --disabled-bg-color: #DDD;\n",
              "  }\n",
              "\n",
              "  [theme=dark] .colab-df-quickchart {\n",
              "      --bg-color: #3B4455;\n",
              "      --fill-color: #D2E3FC;\n",
              "      --hover-bg-color: #434B5C;\n",
              "      --hover-fill-color: #FFFFFF;\n",
              "      --disabled-bg-color: #3B4455;\n",
              "      --disabled-fill-color: #666;\n",
              "  }\n",
              "\n",
              "  .colab-df-quickchart {\n",
              "    background-color: var(--bg-color);\n",
              "    border: none;\n",
              "    border-radius: 50%;\n",
              "    cursor: pointer;\n",
              "    display: none;\n",
              "    fill: var(--fill-color);\n",
              "    height: 32px;\n",
              "    padding: 0;\n",
              "    width: 32px;\n",
              "  }\n",
              "\n",
              "  .colab-df-quickchart:hover {\n",
              "    background-color: var(--hover-bg-color);\n",
              "    box-shadow: 0 1px 2px rgba(60, 64, 67, 0.3), 0 1px 3px 1px rgba(60, 64, 67, 0.15);\n",
              "    fill: var(--button-hover-fill-color);\n",
              "  }\n",
              "\n",
              "  .colab-df-quickchart-complete:disabled,\n",
              "  .colab-df-quickchart-complete:disabled:hover {\n",
              "    background-color: var(--disabled-bg-color);\n",
              "    fill: var(--disabled-fill-color);\n",
              "    box-shadow: none;\n",
              "  }\n",
              "\n",
              "  .colab-df-spinner {\n",
              "    border: 2px solid var(--fill-color);\n",
              "    border-color: transparent;\n",
              "    border-bottom-color: var(--fill-color);\n",
              "    animation:\n",
              "      spin 1s steps(1) infinite;\n",
              "  }\n",
              "\n",
              "  @keyframes spin {\n",
              "    0% {\n",
              "      border-color: transparent;\n",
              "      border-bottom-color: var(--fill-color);\n",
              "      border-left-color: var(--fill-color);\n",
              "    }\n",
              "    20% {\n",
              "      border-color: transparent;\n",
              "      border-left-color: var(--fill-color);\n",
              "      border-top-color: var(--fill-color);\n",
              "    }\n",
              "    30% {\n",
              "      border-color: transparent;\n",
              "      border-left-color: var(--fill-color);\n",
              "      border-top-color: var(--fill-color);\n",
              "      border-right-color: var(--fill-color);\n",
              "    }\n",
              "    40% {\n",
              "      border-color: transparent;\n",
              "      border-right-color: var(--fill-color);\n",
              "      border-top-color: var(--fill-color);\n",
              "    }\n",
              "    60% {\n",
              "      border-color: transparent;\n",
              "      border-right-color: var(--fill-color);\n",
              "    }\n",
              "    80% {\n",
              "      border-color: transparent;\n",
              "      border-right-color: var(--fill-color);\n",
              "      border-bottom-color: var(--fill-color);\n",
              "    }\n",
              "    90% {\n",
              "      border-color: transparent;\n",
              "      border-bottom-color: var(--fill-color);\n",
              "    }\n",
              "  }\n",
              "</style>\n",
              "\n",
              "  <script>\n",
              "    async function quickchart(key) {\n",
              "      const quickchartButtonEl =\n",
              "        document.querySelector('#' + key + ' button');\n",
              "      quickchartButtonEl.disabled = true;  // To prevent multiple clicks.\n",
              "      quickchartButtonEl.classList.add('colab-df-spinner');\n",
              "      try {\n",
              "        const charts = await google.colab.kernel.invokeFunction(\n",
              "            'suggestCharts', [key], {});\n",
              "      } catch (error) {\n",
              "        console.error('Error during call to suggestCharts:', error);\n",
              "      }\n",
              "      quickchartButtonEl.classList.remove('colab-df-spinner');\n",
              "      quickchartButtonEl.classList.add('colab-df-quickchart-complete');\n",
              "    }\n",
              "    (() => {\n",
              "      let quickchartButtonEl =\n",
              "        document.querySelector('#df-0165941c-4fac-4399-842d-411493de6f22 button');\n",
              "      quickchartButtonEl.style.display =\n",
              "        google.colab.kernel.accessAllowed ? 'block' : 'none';\n",
              "    })();\n",
              "  </script>\n",
              "</div>\n",
              "    </div>\n",
              "  </div>\n"
            ],
            "text/plain": [
              "  summary            address             business_id  \\\n",
              "0   count             150346                  150346   \n",
              "1    mean  7369.333333333333                    None   \n",
              "2  stddev  8738.777641447725                    None   \n",
              "3     min                     ---kPU91CF4Lq2-WlRu9Lw   \n",
              "4     max    ​185 E State St  zzyx5x0Z7xXWWvWnZFuxlQ   \n",
              "\n",
              "                                          categories         city  \\\n",
              "0                                             150243       150346   \n",
              "1                                               None         None   \n",
              "2                                               None         None   \n",
              "3  3D Printing, Local Services, Hobby Shops, Shop...  AB Edmonton   \n",
              "4  Zoos, Tours, Arts & Entertainment, Hotels & Tr...      ​Lithia   \n",
              "\n",
              "              is_open           latitude           longitude  \\\n",
              "0              150346             150346              150346   \n",
              "1  0.7961502135075094  36.67115006414526  -89.35733948971448   \n",
              "2   0.402859939090063  5.872758917014039  14.918501679930593   \n",
              "3                   0          27.555127         -120.095137   \n",
              "4                   1         53.6791969      -73.2004570502   \n",
              "\n",
              "                                                name         postal_code  \\\n",
              "0                                             150346              150346   \n",
              "1                                             1252.4   45177.81755426108   \n",
              "2                                  811.1275005954503  26395.882085856578   \n",
              "3                                       Grow Academy                       \n",
              "4  ​​Transformational Abdominal Massage by Jada D...             T9E 0V3   \n",
              "\n",
              "         review_count               stars   state  \n",
              "0              150346              150346  150346  \n",
              "1   44.86656113232144  3.5967235576603303    None  \n",
              "2  121.12013570117037  0.9744207509201411    None  \n",
              "3                   5                 1.0      AB  \n",
              "4                7568                 5.0     XMS  "
            ]
          },
          "execution_count": 24,
          "metadata": {},
          "output_type": "execute_result"
        }
      ],
      "source": [
        "df_business.describe().toPandas()"
      ]
    },
    {
      "cell_type": "code",
      "execution_count": 25,
      "metadata": {
        "colab": {
          "base_uri": "https://localhost:8080/"
        },
        "execution": {
          "iopub.execute_input": "2023-10-16T14:45:59.358952Z",
          "iopub.status.busy": "2023-10-16T14:45:59.358225Z",
          "iopub.status.idle": "2023-10-16T14:46:01.940432Z",
          "shell.execute_reply": "2023-10-16T14:46:01.939428Z",
          "shell.execute_reply.started": "2023-10-16T14:45:59.358914Z"
        },
        "id": "lO5Y9LUNCF7A",
        "outputId": "615a5ad1-d34e-4759-92e2-dbcf5bb8fd5a",
        "trusted": true
      },
      "outputs": [
        {
          "name": "stdout",
          "output_type": "stream",
          "text": [
            "+-------+-----------+----------+----+-------+--------+---------+----+-----------+------------+-----+-----+\n",
            "|address|business_id|categories|city|is_open|latitude|longitude|name|postal_code|review_count|stars|state|\n",
            "+-------+-----------+----------+----+-------+--------+---------+----+-----------+------------+-----+-----+\n",
            "|      0|          0|       103|   0|      0|       0|        0|   0|          0|           0|    0|    0|\n",
            "+-------+-----------+----------+----+-------+--------+---------+----+-----------+------------+-----+-----+\n",
            "\n"
          ]
        }
      ],
      "source": [
        "df_business.select([count(when(isnan(c) | col(c).isNull(), c)).alias(c) for c in df_business.columns]).show()"
      ]
    },
    {
      "cell_type": "markdown",
      "metadata": {
        "execution": {
          "iopub.execute_input": "2023-09-20T23:07:48.822659Z",
          "iopub.status.busy": "2023-09-20T23:07:48.821947Z",
          "iopub.status.idle": "2023-09-20T23:07:48.831583Z",
          "shell.execute_reply": "2023-09-20T23:07:48.829973Z",
          "shell.execute_reply.started": "2023-09-20T23:07:48.822621Z"
        },
        "id": "ef8fBZ8eCF7A"
      },
      "source": [
        "## Data Preparation\n",
        "\n",
        "### 1. Dropping Redundant Columns\n",
        "The \"address\", \"attributes\", \"is_open\", and \"hours\" columns are redundant and needs to be dropped. The \"categories\" column is not inherently informative for meaningful analysis.\n",
        "\n",
        "### 2. Optimizing Data Types\n",
        "The data types for the \"latitude,\" \"longitude,\" and \"stars\" columns are not the most efficient representations for the data they contain. Float aligns better. Similarly, \"review_count\" is converted to Integers."
      ]
    },
    {
      "cell_type": "code",
      "execution_count": 26,
      "metadata": {
        "execution": {
          "iopub.execute_input": "2023-10-16T14:46:01.942153Z",
          "iopub.status.busy": "2023-10-16T14:46:01.941589Z",
          "iopub.status.idle": "2023-10-16T14:46:01.954944Z",
          "shell.execute_reply": "2023-10-16T14:46:01.953561Z",
          "shell.execute_reply.started": "2023-10-16T14:46:01.942113Z"
        },
        "id": "mac79OKPCF7A",
        "trusted": true
      },
      "outputs": [],
      "source": [
        "# 1. Dropping Redundant Columns\n",
        "columns_to_drop = ['address', 'categories', 'is_open']\n",
        "df_business = df_business.drop(*columns_to_drop)"
      ]
    },
    {
      "cell_type": "code",
      "execution_count": 27,
      "metadata": {
        "execution": {
          "iopub.execute_input": "2023-10-16T14:46:01.957574Z",
          "iopub.status.busy": "2023-10-16T14:46:01.957101Z",
          "iopub.status.idle": "2023-10-16T14:46:02.028885Z",
          "shell.execute_reply": "2023-10-16T14:46:02.027810Z",
          "shell.execute_reply.started": "2023-10-16T14:46:01.957538Z"
        },
        "id": "TWBNa8-QCF7A",
        "trusted": true
      },
      "outputs": [],
      "source": [
        "# 2. Optimizing Data Types\n",
        "\n",
        "# Convert latitude, longitude, and stars to float\n",
        "df_business = df_business.withColumn('latitude', df_business['latitude'].cast(FloatType()))\n",
        "df_business = df_business.withColumn('longitude', df_business['longitude'].cast(FloatType()))\n",
        "df_business = df_business.withColumn('stars', df_business['stars'].cast(FloatType()))\n",
        "\n",
        "# Convert review_count to integer\n",
        "df_business = df_business.withColumn('review_count', df_business['review_count'].cast(IntegerType()))"
      ]
    },
    {
      "cell_type": "code",
      "execution_count": 28,
      "metadata": {
        "colab": {
          "base_uri": "https://localhost:8080/"
        },
        "execution": {
          "iopub.execute_input": "2023-10-16T14:46:02.030451Z",
          "iopub.status.busy": "2023-10-16T14:46:02.030075Z",
          "iopub.status.idle": "2023-10-16T14:46:02.037864Z",
          "shell.execute_reply": "2023-10-16T14:46:02.036789Z",
          "shell.execute_reply.started": "2023-10-16T14:46:02.030416Z"
        },
        "id": "-fx04IvTCF7B",
        "outputId": "174773e6-acdd-4c47-a840-964ced319a07",
        "trusted": true
      },
      "outputs": [
        {
          "name": "stdout",
          "output_type": "stream",
          "text": [
            "root\n",
            " |-- business_id: string (nullable = true)\n",
            " |-- city: string (nullable = true)\n",
            " |-- latitude: float (nullable = true)\n",
            " |-- longitude: float (nullable = true)\n",
            " |-- name: string (nullable = true)\n",
            " |-- postal_code: string (nullable = true)\n",
            " |-- review_count: integer (nullable = true)\n",
            " |-- stars: float (nullable = true)\n",
            " |-- state: string (nullable = true)\n",
            "\n"
          ]
        }
      ],
      "source": [
        "df_business.printSchema()"
      ]
    },
    {
      "cell_type": "code",
      "execution_count": 29,
      "metadata": {
        "colab": {
          "base_uri": "https://localhost:8080/"
        },
        "execution": {
          "iopub.execute_input": "2023-10-16T14:46:02.040796Z",
          "iopub.status.busy": "2023-10-16T14:46:02.039892Z",
          "iopub.status.idle": "2023-10-16T14:46:02.219801Z",
          "shell.execute_reply": "2023-10-16T14:46:02.218766Z",
          "shell.execute_reply.started": "2023-10-16T14:46:02.040749Z"
        },
        "id": "-eXOkacRCF7B",
        "outputId": "5bb7ae56-71ec-4752-ddb7-2529c8eb25eb",
        "trusted": true
      },
      "outputs": [
        {
          "name": "stdout",
          "output_type": "stream",
          "text": [
            "+--------------------+--------------------+-------------+-----+-----------+---------+-----------+-----+------------+\n",
            "|         business_id|                name|         city|state|postal_code| latitude|  longitude|stars|review_count|\n",
            "+--------------------+--------------------+-------------+-----+-----------+---------+-----------+-----+------------+\n",
            "|Pns2l4eNsfO8kk83d...|Abby Rappoport, L...|Santa Barbara|   CA|      93101|34.426678|  -119.7112|  5.0|           7|\n",
            "|mpf3x-BjTdTEA3yCZ...|       The UPS Store|       Affton|   MO|      63123|38.551125|  -90.33569|  3.0|          15|\n",
            "|tUFrWirKiKi_TAnsV...|              Target|       Tucson|   AZ|      85711|32.223236|-110.880455|  3.5|          22|\n",
            "|MTSW4McQd7CbVtyjq...|  St Honore Pastries| Philadelphia|   PA|      19107|39.955505|  -75.15556|  4.0|          80|\n",
            "|mWMc6_wTdE0EUBKIG...|Perkiomen Valley ...|   Green Lane|   PA|      18054|40.338184|  -75.47166|  4.5|          13|\n",
            "+--------------------+--------------------+-------------+-----+-----------+---------+-----------+-----+------------+\n",
            "only showing top 5 rows\n",
            "\n"
          ]
        }
      ],
      "source": [
        "column_order = [\n",
        "    \"business_id\",\n",
        "    \"name\",\n",
        "    \"city\",\n",
        "    \"state\",\n",
        "    \"postal_code\",\n",
        "    \"latitude\",\n",
        "    \"longitude\",\n",
        "    \"stars\",\n",
        "    \"review_count\"\n",
        "]\n",
        "\n",
        "df_business = df_business.select(column_order)\n",
        "df_business.show(5)"
      ]
    },
    {
      "cell_type": "markdown",
      "metadata": {
        "id": "Xp6bwLpOCF7B"
      },
      "source": [
        "## Prepare Review Dataset"
      ]
    },
    {
      "cell_type": "markdown",
      "metadata": {
        "execution": {
          "iopub.execute_input": "2023-09-18T23:50:24.636323Z",
          "iopub.status.busy": "2023-09-18T23:50:24.635500Z",
          "iopub.status.idle": "2023-09-18T23:50:24.642045Z",
          "shell.execute_reply": "2023-09-18T23:50:24.640724Z",
          "shell.execute_reply.started": "2023-09-18T23:50:24.636293Z"
        },
        "id": "5LT1_bF1CF7B"
      },
      "source": [
        "<img src=\"https://github.com/yashraizada/yelp-review-sense/blob/main/images/Sample%20Review.png?raw=true\"/>"
      ]
    },
    {
      "cell_type": "code",
      "execution_count": 30,
      "metadata": {
        "execution": {
          "iopub.execute_input": "2023-10-16T14:46:02.221422Z",
          "iopub.status.busy": "2023-10-16T14:46:02.221051Z",
          "iopub.status.idle": "2023-10-16T14:46:18.865723Z",
          "shell.execute_reply": "2023-10-16T14:46:18.863764Z",
          "shell.execute_reply.started": "2023-10-16T14:46:02.221387Z"
        },
        "id": "RUwJs1EeCF7B",
        "trusted": true
      },
      "outputs": [],
      "source": [
        "df_review = spark.read.json('yelp_academic_dataset_review.json')"
      ]
    },
    {
      "cell_type": "code",
      "execution_count": 31,
      "metadata": {
        "colab": {
          "base_uri": "https://localhost:8080/"
        },
        "execution": {
          "iopub.execute_input": "2023-10-16T14:46:18.867509Z",
          "iopub.status.busy": "2023-10-16T14:46:18.867057Z",
          "iopub.status.idle": "2023-10-16T14:46:18.873847Z",
          "shell.execute_reply": "2023-10-16T14:46:18.872854Z",
          "shell.execute_reply.started": "2023-10-16T14:46:18.867471Z"
        },
        "id": "LEdo2A7hCF7B",
        "outputId": "925e08d4-4a39-4293-dedb-f9b151b573e0",
        "trusted": true
      },
      "outputs": [
        {
          "name": "stdout",
          "output_type": "stream",
          "text": [
            "root\n",
            " |-- business_id: string (nullable = true)\n",
            " |-- cool: long (nullable = true)\n",
            " |-- date: string (nullable = true)\n",
            " |-- funny: long (nullable = true)\n",
            " |-- review_id: string (nullable = true)\n",
            " |-- stars: double (nullable = true)\n",
            " |-- text: string (nullable = true)\n",
            " |-- useful: long (nullable = true)\n",
            " |-- user_id: string (nullable = true)\n",
            "\n"
          ]
        }
      ],
      "source": [
        "df_review.printSchema()"
      ]
    },
    {
      "cell_type": "code",
      "execution_count": 32,
      "metadata": {
        "colab": {
          "base_uri": "https://localhost:8080/"
        },
        "execution": {
          "iopub.execute_input": "2023-10-16T14:46:18.880288Z",
          "iopub.status.busy": "2023-10-16T14:46:18.879635Z",
          "iopub.status.idle": "2023-10-16T14:47:28.986325Z",
          "shell.execute_reply": "2023-10-16T14:47:28.985224Z",
          "shell.execute_reply.started": "2023-10-16T14:46:18.880256Z"
        },
        "id": "f4pLL4qeCF7B",
        "outputId": "c18860eb-218e-4a9d-f7fa-7b205a1f9bfc",
        "trusted": true
      },
      "outputs": [
        {
          "name": "stdout",
          "output_type": "stream",
          "text": [
            "+-----------+----+----+-----+---------+-----+----+------+-------+\n",
            "|business_id|cool|date|funny|review_id|stars|text|useful|user_id|\n",
            "+-----------+----+----+-----+---------+-----+----+------+-------+\n",
            "|          0|   0|   0|    0|        0|    0|   0|     0|      0|\n",
            "+-----------+----+----+-----+---------+-----+----+------+-------+\n",
            "\n"
          ]
        }
      ],
      "source": [
        "df_review.select([count(when(isnan(c) | col(c).isNull(), c)).alias(c) for c in df_review.columns]).show()"
      ]
    },
    {
      "cell_type": "code",
      "execution_count": 33,
      "metadata": {
        "execution": {
          "iopub.execute_input": "2023-10-16T14:47:28.987981Z",
          "iopub.status.busy": "2023-10-16T14:47:28.987582Z",
          "iopub.status.idle": "2023-10-16T14:47:29.020161Z",
          "shell.execute_reply": "2023-10-16T14:47:29.018885Z",
          "shell.execute_reply.started": "2023-10-16T14:47:28.987943Z"
        },
        "id": "wIAtcO8zCF7B",
        "trusted": true
      },
      "outputs": [],
      "source": [
        "# Consolidating multiple interactions columns\n",
        "\n",
        "columns_to_combine = ['useful', 'funny', 'cool']\n",
        "df_review = df_review.withColumn('total_interaction', sum(col(col_name) for col_name in columns_to_combine))\n",
        "df_review = df_review.drop(*columns_to_combine)"
      ]
    },
    {
      "cell_type": "code",
      "execution_count": 34,
      "metadata": {
        "execution": {
          "iopub.execute_input": "2023-10-16T14:47:29.022069Z",
          "iopub.status.busy": "2023-10-16T14:47:29.021700Z",
          "iopub.status.idle": "2023-10-16T14:47:29.049492Z",
          "shell.execute_reply": "2023-10-16T14:47:29.048256Z",
          "shell.execute_reply.started": "2023-10-16T14:47:29.022034Z"
        },
        "id": "sMe_7x1NCF7B",
        "trusted": true
      },
      "outputs": [],
      "source": [
        "# Correcting data types and optimizing memory usage\n",
        "\n",
        "df_review = df_review.withColumn('total_interaction', df_review['total_interaction'].cast(IntegerType()))\n",
        "df_review = df_review.withColumn('date', to_timestamp(df_review['date'], 'yyyy-MM-dd HH:mm:ss'))"
      ]
    },
    {
      "cell_type": "code",
      "execution_count": 35,
      "metadata": {
        "colab": {
          "base_uri": "https://localhost:8080/"
        },
        "execution": {
          "iopub.execute_input": "2023-10-16T14:47:29.051214Z",
          "iopub.status.busy": "2023-10-16T14:47:29.050870Z",
          "iopub.status.idle": "2023-10-16T14:47:29.214502Z",
          "shell.execute_reply": "2023-10-16T14:47:29.213355Z",
          "shell.execute_reply.started": "2023-10-16T14:47:29.051183Z"
        },
        "id": "7M_tNwR2CF7B",
        "outputId": "28e29d1e-ec5c-47ce-de1b-d0f8221e6711",
        "trusted": true
      },
      "outputs": [
        {
          "name": "stdout",
          "output_type": "stream",
          "text": [
            "+--------------------+--------------------+--------------------+-------------------+-----+--------------------+-----------------+\n",
            "|           review_id|         business_id|             user_id|               date|stars|                text|total_interaction|\n",
            "+--------------------+--------------------+--------------------+-------------------+-----+--------------------+-----------------+\n",
            "|KU_O5udG6zpxOg-Vc...|XQfwVwDr-v0ZS3_Cb...|mh_-eMZ6K5RLWhZyI...|2018-07-07 22:09:11|  3.0|If you decide to ...|                0|\n",
            "|BiTunyQ73aT9WBnpR...|7ATYjTIgM3jUlt4UM...|OyoGAe7OKpv6SyGZT...|2012-01-03 15:28:18|  5.0|I've taken a lot ...|                2|\n",
            "|saUsX_uimxRlCVr67...|YjUWPpI6HXG530lwP...|8g_iMtfSiwikVnbP2...|2014-02-05 20:30:30|  3.0|Family diner. Had...|                0|\n",
            "|AqPFMleE6RsU23_au...|kxX2SOes4o-D3ZQBk...|_7bHUi9Uuf5__HHc_...|2015-01-04 00:01:03|  5.0|Wow!  Yummy, diff...|                2|\n",
            "|Sx8TMOWLNuJBWer-0...|e4Vwtrqf-wpJfwesg...|bcjbaE6dDog4jkNY9...|2017-01-14 20:54:15|  4.0|Cute interior and...|                2|\n",
            "+--------------------+--------------------+--------------------+-------------------+-----+--------------------+-----------------+\n",
            "only showing top 5 rows\n",
            "\n"
          ]
        }
      ],
      "source": [
        "column_order = [\n",
        "    'review_id',\n",
        "    'business_id',\n",
        "    'user_id',\n",
        "    'date',\n",
        "    'stars',\n",
        "    'text',\n",
        "    'total_interaction'\n",
        "]\n",
        "\n",
        "df_review = df_review.select(column_order)\n",
        "df_review.show(5)"
      ]
    },
    {
      "cell_type": "markdown",
      "metadata": {
        "id": "nEotKPhpCF7G"
      },
      "source": [
        "## Prepare Check-in Dataset"
      ]
    },
    {
      "cell_type": "code",
      "execution_count": 36,
      "metadata": {
        "execution": {
          "iopub.execute_input": "2023-10-16T14:47:29.216108Z",
          "iopub.status.busy": "2023-10-16T14:47:29.215687Z",
          "iopub.status.idle": "2023-10-16T14:47:30.393600Z",
          "shell.execute_reply": "2023-10-16T14:47:30.392842Z",
          "shell.execute_reply.started": "2023-10-16T14:47:29.216073Z"
        },
        "id": "8Mqz3a7nCF7G",
        "trusted": true
      },
      "outputs": [],
      "source": [
        "df_checkin = spark.read.json('yelp_academic_dataset_checkin.json')"
      ]
    },
    {
      "cell_type": "code",
      "execution_count": 37,
      "metadata": {
        "colab": {
          "base_uri": "https://localhost:8080/"
        },
        "execution": {
          "iopub.execute_input": "2023-10-16T14:47:30.394606Z",
          "iopub.status.busy": "2023-10-16T14:47:30.394373Z",
          "iopub.status.idle": "2023-10-16T14:47:30.400369Z",
          "shell.execute_reply": "2023-10-16T14:47:30.399413Z",
          "shell.execute_reply.started": "2023-10-16T14:47:30.394585Z"
        },
        "id": "WCdceJERCF7G",
        "outputId": "1a37719d-ee6a-4799-9b02-f93c7a4f8428",
        "trusted": true
      },
      "outputs": [
        {
          "name": "stdout",
          "output_type": "stream",
          "text": [
            "root\n",
            " |-- business_id: string (nullable = true)\n",
            " |-- date: string (nullable = true)\n",
            "\n"
          ]
        }
      ],
      "source": [
        "df_checkin.printSchema()"
      ]
    },
    {
      "cell_type": "code",
      "execution_count": 38,
      "metadata": {
        "colab": {
          "base_uri": "https://localhost:8080/"
        },
        "execution": {
          "iopub.execute_input": "2023-10-16T14:47:30.402555Z",
          "iopub.status.busy": "2023-10-16T14:47:30.402184Z",
          "iopub.status.idle": "2023-10-16T14:47:31.905403Z",
          "shell.execute_reply": "2023-10-16T14:47:31.904238Z",
          "shell.execute_reply.started": "2023-10-16T14:47:30.402520Z"
        },
        "id": "CjDnlwTtCF7G",
        "outputId": "3674e16d-1651-4286-937f-1a16db2a6d04",
        "trusted": true
      },
      "outputs": [
        {
          "name": "stdout",
          "output_type": "stream",
          "text": [
            "+-----------+----+\n",
            "|business_id|date|\n",
            "+-----------+----+\n",
            "|          0|   0|\n",
            "+-----------+----+\n",
            "\n"
          ]
        }
      ],
      "source": [
        "df_checkin.select([count(when(isnan(c) | col(c).isNull(), c)).alias(c) for c in df_checkin.columns]).show()"
      ]
    },
    {
      "cell_type": "code",
      "execution_count": 39,
      "metadata": {
        "colab": {
          "base_uri": "https://localhost:8080/"
        },
        "execution": {
          "iopub.execute_input": "2023-10-16T14:47:31.906948Z",
          "iopub.status.busy": "2023-10-16T14:47:31.906585Z",
          "iopub.status.idle": "2023-10-16T14:47:32.078558Z",
          "shell.execute_reply": "2023-10-16T14:47:32.077434Z",
          "shell.execute_reply.started": "2023-10-16T14:47:31.906912Z"
        },
        "id": "HdjfvocLCF7G",
        "outputId": "936adcc9-3aff-4092-90ab-3b152edfa801",
        "trusted": true
      },
      "outputs": [
        {
          "name": "stdout",
          "output_type": "stream",
          "text": [
            "+--------------------+-------------+-------------------+-------------------+\n",
            "|         business_id|checkin_count|   checkin_date_min|   checkin_date_max|\n",
            "+--------------------+-------------+-------------------+-------------------+\n",
            "|---kPU91CF4Lq2-Wl...|           11|2020-06-02 22:18:06|2020-03-13 21:10:56|\n",
            "|--0iUa4sNDFiZFrAd...|           10|2011-05-04 23:08:15|2010-09-13 21:43:09|\n",
            "|--30_8IhuyMHbSOcN...|            2|2014-08-13 23:20:22|2013-06-14 23:29:17|\n",
            "|--7PUidqRWpRSpXeb...|           10|2011-07-28 02:46:10|2011-02-15 17:12:00|\n",
            "|--7jw19RH9JKXgFoh...|           26|2014-04-28 21:04:46|2014-04-21 20:42:11|\n",
            "+--------------------+-------------+-------------------+-------------------+\n",
            "only showing top 5 rows\n",
            "\n"
          ]
        }
      ],
      "source": [
        "# Extract the oldest and newest date of check-ins\n",
        "\n",
        "df_checkin = df_checkin.withColumn('date_list', split(df_checkin['date'], ','))\n",
        "df_checkin = df_checkin.withColumn('checkin_count', size(df_checkin['date_list']))\n",
        "df_checkin = df_checkin.withColumn('checkin_date_min', to_timestamp(array_min(df_checkin['date_list'])))\n",
        "df_checkin = df_checkin.withColumn('checkin_date_max', to_timestamp(array_max(df_checkin['date_list'])))\n",
        "\n",
        "columns_to_drop = ['date', 'date_list']\n",
        "df_checkin = df_checkin.drop(*columns_to_drop)\n",
        "df_checkin.show(5)"
      ]
    },
    {
      "cell_type": "markdown",
      "metadata": {
        "id": "7SW0GOSgCF7G"
      },
      "source": [
        "## Prepare Tip Dataset"
      ]
    },
    {
      "cell_type": "code",
      "execution_count": 40,
      "metadata": {
        "execution": {
          "iopub.execute_input": "2023-10-16T14:47:32.080107Z",
          "iopub.status.busy": "2023-10-16T14:47:32.079732Z",
          "iopub.status.idle": "2023-10-16T14:47:33.253462Z",
          "shell.execute_reply": "2023-10-16T14:47:33.252384Z",
          "shell.execute_reply.started": "2023-10-16T14:47:32.080071Z"
        },
        "id": "QI3UHb4sCF7G",
        "trusted": true
      },
      "outputs": [],
      "source": [
        "df_tip = spark.read.json('yelp_academic_dataset_tip.json')"
      ]
    },
    {
      "cell_type": "code",
      "execution_count": 41,
      "metadata": {
        "colab": {
          "base_uri": "https://localhost:8080/"
        },
        "execution": {
          "iopub.execute_input": "2023-10-16T14:47:33.255923Z",
          "iopub.status.busy": "2023-10-16T14:47:33.254594Z",
          "iopub.status.idle": "2023-10-16T14:47:33.262681Z",
          "shell.execute_reply": "2023-10-16T14:47:33.261735Z",
          "shell.execute_reply.started": "2023-10-16T14:47:33.255881Z"
        },
        "id": "7RafCku2CF7G",
        "outputId": "48e7de41-8297-4194-8e9e-cb644cd1af19",
        "trusted": true
      },
      "outputs": [
        {
          "name": "stdout",
          "output_type": "stream",
          "text": [
            "root\n",
            " |-- business_id: string (nullable = true)\n",
            " |-- compliment_count: long (nullable = true)\n",
            " |-- date: string (nullable = true)\n",
            " |-- text: string (nullable = true)\n",
            " |-- user_id: string (nullable = true)\n",
            "\n"
          ]
        }
      ],
      "source": [
        "df_tip.printSchema()"
      ]
    },
    {
      "cell_type": "code",
      "execution_count": 42,
      "metadata": {
        "colab": {
          "base_uri": "https://localhost:8080/"
        },
        "execution": {
          "iopub.execute_input": "2023-10-16T14:47:33.264959Z",
          "iopub.status.busy": "2023-10-16T14:47:33.264415Z",
          "iopub.status.idle": "2023-10-16T14:47:39.538136Z",
          "shell.execute_reply": "2023-10-16T14:47:39.537086Z",
          "shell.execute_reply.started": "2023-10-16T14:47:33.264921Z"
        },
        "id": "SapIYjKpCF7G",
        "outputId": "ab8d21a0-5223-4a99-e989-fa2f47609351",
        "trusted": true
      },
      "outputs": [
        {
          "name": "stdout",
          "output_type": "stream",
          "text": [
            "+-----------+----------------+----+----+-------+\n",
            "|business_id|compliment_count|date|text|user_id|\n",
            "+-----------+----------------+----+----+-------+\n",
            "|          0|               0|   0|   0|      0|\n",
            "+-----------+----------------+----+----+-------+\n",
            "\n"
          ]
        }
      ],
      "source": [
        "df_tip.select([count(when(isnan(c) | col(c).isNull(), c)).alias(c) for c in df_tip.columns]).show()"
      ]
    },
    {
      "cell_type": "code",
      "execution_count": 43,
      "metadata": {
        "execution": {
          "iopub.execute_input": "2023-10-16T14:47:39.540151Z",
          "iopub.status.busy": "2023-10-16T14:47:39.539319Z",
          "iopub.status.idle": "2023-10-16T14:47:39.562842Z",
          "shell.execute_reply": "2023-10-16T14:47:39.562092Z",
          "shell.execute_reply.started": "2023-10-16T14:47:39.540122Z"
        },
        "id": "4DwFa8i_CF7G",
        "trusted": true
      },
      "outputs": [],
      "source": [
        "df_tip = df_tip.withColumn(\"compliment_count\", df_tip[\"compliment_count\"].cast(IntegerType()))\n",
        "df_tip = df_tip.withColumn('date', to_timestamp(df_tip['date'], 'yyyy-MM-dd HH:mm:ss'))"
      ]
    },
    {
      "cell_type": "code",
      "execution_count": 44,
      "metadata": {
        "colab": {
          "base_uri": "https://localhost:8080/"
        },
        "execution": {
          "iopub.execute_input": "2023-10-16T14:47:39.564184Z",
          "iopub.status.busy": "2023-10-16T14:47:39.563827Z",
          "iopub.status.idle": "2023-10-16T14:47:39.676018Z",
          "shell.execute_reply": "2023-10-16T14:47:39.675003Z",
          "shell.execute_reply.started": "2023-10-16T14:47:39.564149Z"
        },
        "id": "ANqINSvuCF7H",
        "outputId": "d41b09cd-2b7e-43c3-b9b5-3d2bbb49709a",
        "trusted": true
      },
      "outputs": [
        {
          "name": "stdout",
          "output_type": "stream",
          "text": [
            "+--------------------+----------------+-------------------+--------------------+--------------------+\n",
            "|         business_id|compliment_count|               date|                text|             user_id|\n",
            "+--------------------+----------------+-------------------+--------------------+--------------------+\n",
            "|3uLgwr0qeCNMjKenH...|               0|2012-05-18 02:17:21|Avengers time wit...|AGNUgVwnZUey3gcPC...|\n",
            "|QoezRbYQncpRqyrLH...|               0|2013-02-05 18:35:10|They have lots of...|NBN4MgHP9D3cw--Sn...|\n",
            "|MYoRNLb5chwjQe3c_...|               0|2013-08-18 00:56:08|It's open even wh...|-copOvldyKh1qr-vz...|\n",
            "|hV-bABTK-glh5wj31...|               0|2017-06-27 23:05:38|Very decent fried...|FjMQVZjSqY8syIO-5...|\n",
            "|_uN0OudeJ3Zl_tf6n...|               0|2012-10-06 19:43:09|Appetizers.. plat...|ld0AperBXk1h6Ubqm...|\n",
            "+--------------------+----------------+-------------------+--------------------+--------------------+\n",
            "only showing top 5 rows\n",
            "\n"
          ]
        }
      ],
      "source": [
        "df_tip.show(5)"
      ]
    },
    {
      "cell_type": "markdown",
      "metadata": {
        "id": "TcQg-wdeCF7H"
      },
      "source": [
        "## Merge Dataset"
      ]
    },
    {
      "cell_type": "code",
      "execution_count": 45,
      "metadata": {
        "colab": {
          "base_uri": "https://localhost:8080/"
        },
        "execution": {
          "iopub.execute_input": "2023-10-16T14:47:39.677585Z",
          "iopub.status.busy": "2023-10-16T14:47:39.677154Z",
          "iopub.status.idle": "2023-10-16T14:48:18.032373Z",
          "shell.execute_reply": "2023-10-16T14:48:18.031389Z",
          "shell.execute_reply.started": "2023-10-16T14:47:39.677552Z"
        },
        "id": "PfklFcGICF7H",
        "outputId": "b475c6e2-e7aa-4425-c529-970b80930d5d",
        "trusted": true
      },
      "outputs": [
        {
          "name": "stdout",
          "output_type": "stream",
          "text": [
            "+--------------------+--------------------+--------------------+-------------------+------------+--------------------+------------------------+-------------------+-----------------+------------------+---------+------------------+-----------------------+----------------------+----------------------+-------------------+-------------------+--------------------+----------------+---------+---------------+------------+-------------+---------+----------------+-------------+-------------------+-------------------+\n",
            "|         business_id|             user_id|           review_id|        review_date|review_stars|         review_text|review_total_interaction| user_yelping_since|user_review_count|user_average_stars|user_fans|user_friends_count|user_total_interactions|user_total_compliments|user_elite_years_count|user_elite_min_year|user_elite_max_year|            biz_name|        biz_city|biz_state|biz_postal_code|biz_latitude|biz_longitude|biz_stars|biz_review_count|checkin_count|   checkin_date_min|   checkin_date_max|\n",
            "+--------------------+--------------------+--------------------+-------------------+------------+--------------------+------------------------+-------------------+-----------------+------------------+---------+------------------+-----------------------+----------------------+----------------------+-------------------+-------------------+--------------------+----------------+---------+---------------+------------+-------------+---------+----------------+-------------+-------------------+-------------------+\n",
            "|-3e3CP3FFc-rvJj_-...|--2vR0DIsmQ6WfcSz...|m3QNG3Ni7--EsiFv3...|2015-02-19 05:08:44|         4.0|Da uns der erste ...|                     302|2012-11-27 14:19:33|             1534|              4.18|      880|              3982|                 578739|                133351|                    10|                 20|               2021|      Penn's Landing|    Philadelphia|       PA|          19106|   39.960022|    -75.13715|      3.5|              80|          594|2010-07-04 01:17:32|2010-07-02 23:27:44|\n",
            "|CJ3t6dw60CdpflWKe...|-tIU61x9-zg1zjlJ3...|Lv83IvJ7Vl6EYj131...|2019-12-03 18:15:14|         1.0|We went there las...|                       0|2010-11-10 19:24:24|               27|              3.74|        0|                 6|                     26|                     0|                     0|                  0|                  0|            Benihana|Plymouth Meeting|       PA|          19462|    40.11639|   -75.279205|      2.5|             240|          296|2010-08-01 22:18:47|2010-07-15 23:12:04|\n",
            "|NGR_aVWJ-W_KHvBDr...|-CzwjrantVGMmZB8Q...|iwiGJ2m7_s3owJR47...|2016-03-20 13:54:21|         3.0|Remodel is great,...|                      12|2012-01-25 18:13:34|              153|              3.55|       24|                56|                   1061|                   163|                     6|                 20|               2021|Atlantis Toucan C...|            Reno|       NV|          89502|    39.48895|   -119.79372|      4.0|             917|         1840|2010-05-16 18:25:24|2010-05-02 01:16:23|\n",
            "|SyCXBCUsoCVEUBdru...|018xlOJfE5Yf997kp...|WU86c2wW3WblikSzl...|2020-01-14 20:02:12|         5.0|My family had the...|                       4|2015-03-28 16:42:50|               18|              4.74|        0|                 1|                     25|                     1|                     0|                  0|                  0|Residence Inn by ...|     New Orleans|       LA|          70130|    29.95064|    -90.07007|      4.0|              17|           13|2020-01-18 06:34:27|2019-12-06 14:01:48|\n",
            "|T4SBFuxY23-6JsKOr...|00xGfvalJOhzGMxbq...|diB1VykEW3lmAuajJ...|2009-11-25 22:04:02|         4.0|Why would you go ...|                       0|2009-11-25 17:00:08|               32|              3.61|        3|                 5|                     65|                     5|                     0|                  0|                  0|The Black Dog Fre...|        Edmonton|       AB|        T6E 2A1|   53.518215|   -113.49924|      4.0|              48|          172|2011-04-20 00:03:25|2011-02-26 02:18:14|\n",
            "|cVV8GWVIe9BwyCOKw...|2S_TNGTL1gDTDu3T2...|sXJ7Pv5VUfSrrx6tA...|2017-12-02 22:58:01|         5.0|Why has it taken ...|                      28|2011-03-11 07:16:39|              312|               3.8|       63|               466|                   3299|                   526|                     9|                 20|               2021|        Castellino's|    Philadelphia|       PA|          19125|   39.972336|    -75.12904|      5.0|              72|           71|2017-05-23 22:18:53|2017-04-23 18:36:08|\n",
            "|dXTXpAK6IpeR8PLFY...|1FPPVOH6Nta9QF1zw...|k0_pkW1SzWaN65snu...|2015-10-22 07:17:41|         5.0|This is the best ...|                       0|2015-10-21 20:23:34|               15|              2.88|        0|                 1|                     28|                     0|                     0|                  0|                  0|     Texas Roadhouse|        Meridian|       ID|          83642|   43.619114|  -116.347466|      3.5|             287|          507|2011-03-13 23:40:48|2010-11-18 00:45:32|\n",
            "|hVi4_rFTj0fsbfxa4...|2FG_8qjI_IAV5pEVk...|gd_DutOaujHobN9HZ...|2015-12-29 19:55:42|         4.0|Great little plac...|                       0|2012-08-30 15:36:49|               20|               4.2|        0|                 1|                     12|                     1|                     0|                  0|                  0|  Costa's Restaurant|  Tarpon Springs|       FL|          34689|   28.154554|    -82.76048|      3.5|             189|          216|2011-01-29 17:08:49|2011-01-29 17:04:07|\n",
            "|nzn8r9dpFKYKh6LSW...|0VEa2DL9eO1llMk4w...|vO2di5SRG7nO-Y0dC...|2016-02-15 04:55:18|         5.0|What is Kaia Fit?...|                      20|2012-10-29 04:10:02|              155|              4.37|       24|               292|                   1191|                   348|                     3|               2015|               2017|Kaia FIT Sierra -...|          Sparks|       NV|          89436|    39.58022|   -119.72312|      5.0|               9|          561|2015-12-28 15:04:20|2015-12-23 15:17:07|\n",
            "|sihT-_DtwOdnDDDJb...|1ji4PRst-aiIBNLJv...|5ccwbPyBnnS1UnDME...|2017-04-16 01:32:43|         1.0|Worse beer tour I...|                       0|2013-07-30 18:12:47|               22|              2.87|        1|                 1|                     21|                     0|                     0|                  0|                  0|  Cigar City Brewing|           Tampa|       FL|          33607|   27.958601|   -82.509346|      4.5|             876|         4116|2010-05-07 23:00:24|2010-05-07 22:36:11|\n",
            "|sjueAFshWHWkKn5a1...|0HK-BPV0H9d02SrGp...|j-a00a0OqRsPdW3u7...|2018-04-22 19:39:23|         4.0|Great food. The c...|                       0|2009-05-16 00:45:41|              240|              3.82|        9|                76|                    308|                    14|                     5|               2015|               2019|     District Tavern|           Tampa|       FL|          33602|   27.948063|    -82.44682|      4.0|             227|          369|2015-12-22 16:34:53|2015-12-21 00:13:15|\n",
            "|tR9azg_Dx8EfV1CBv...|0lV6XSKZ_Aiwx85iM...|xQHDzJmxur3WFCRJq...|2010-03-06 23:33:36|         1.0|SORELY disappoint...|                      15|2009-05-05 18:53:00|               72|               2.7|        7|                29|                    723|                    81|                     0|                  0|                  0|                 Pho|            Reno|       NV|          89511|   39.465267|    -119.7811|      3.5|             353|          862|2010-03-20 20:19:40|2010-03-05 19:56:44|\n",
            "|y2f1eQ3UR-5Wi64TJ...|1POiIjXIuQWgP_QQ5...|gIdHWuBcQ7uuCPhVP...|2019-01-11 22:14:54|         5.0|Art in Philadelph...|                       0|2011-08-16 17:44:02|                2|               5.0|        0|                38|                      0|                     0|                     0|                  0|                  0|           HeaD AreA|    Philadelphia|       PA|          19107|    39.94737|    -75.15939|      5.0|              70|          128|2010-12-17 16:03:22|2010-06-30 00:25:59|\n",
            "|6HTGlttrzCMsuGBHO...|1b5I-t9pU4F3b6x_3...|PBncZ3aqpAMWtGA93...|2017-03-24 10:36:46|         3.0|A decent romantic...|                       1|2017-01-18 10:36:24|                5|               4.0|        0|                 2|                      4|                     1|                     0|                  0|                  0|           Barbareño|   Santa Barbara|       CA|          93101|   34.418045|   -119.70295|      4.5|             405|          340|2014-11-01 04:47:15|2014-11-01 03:10:13|\n",
            "|AODksDNj5mH953cyh...|0ahBSLAoO5cZIaVAc...|bVoYjFkM6DitWBkPk...|2016-11-05 00:45:18|         5.0|I was so excited ...|                       0|2010-08-06 18:55:47|               11|               5.0|        0|                11|                      7|                     2|                     0|                  0|                  0|    Thai 5 Fast Food|           Tampa|       FL|          33629|    27.91206|    -82.50577|      4.0|             336|          495|2015-04-25 00:27:24|2015-04-23 22:31:02|\n",
            "|BVndHaLihEYbr76Z0...|1C2lxzUo1Hyye4RFI...|OAhBYw8IQ6wlfw1ow...|2014-10-11 16:22:06|         5.0|Great place for b...|                       0|2013-07-25 01:04:52|                6|              4.17|        0|                 3|                      4|                     0|                     0|                  0|                  0|       Mamas Kitchen|           Tampa|       FL|          33611|   27.884851|   -82.506004|      4.5|             162|          251|2010-08-11 17:49:14|2010-07-27 13:14:21|\n",
            "|DA5Mecz4auAhTTlFW...|02UfjUYfSFIX3w0KW...|oU913ipyrVlOxwz03...|2020-04-26 01:21:01|         5.0|What can I say, I...|                       3|2013-06-20 18:27:18|               23|              4.78|        0|                 1|                     67|                     5|                     0|                  0|                  0|        La Chaiteria|          Tucson|       AZ|          85745|   32.220398|  -110.988815|      5.0|              65|           33|2020-02-14 20:38:45|2020-02-14 18:33:55|\n",
            "|EwJqU25RgwkbOPKai...|0wkV8H_VSJTTwM217...|YTNX6IbebPiahO5sh...|2016-07-08 18:01:12|         5.0|One of the most a...|                       2|2015-09-12 16:11:36|               48|              3.85|        0|               141|                     31|                     4|                     2|               2016|               2017|    La Peña Mexicana|  Kennett Square|       PA|          19348|    39.84496|    -75.71877|      4.5|             198|          281|2011-02-18 17:27:20|2010-12-04 21:38:10|\n",
            "|GST3wg-wej15vHeCv...|0NAmLqDhiAwmfmXwR...|_thaBhVSOPKn66oqn...|2019-03-10 04:04:17|         5.0|Loved the food. D...|                       0|2014-11-18 20:51:20|              248|              4.06|        0|                 2|                    121|                     2|                     0|                  0|                  0|    Acme Feed & Seed|       Nashville|       TN|          37201|   36.162014|    -86.77445|      4.0|            1731|         3375|2014-05-09 14:57:05|2014-05-09 14:52:06|\n",
            "|HCYs4zgL7kCLdEqKR...|1yLhI547NuKHe-YEO...|euZs9PEJTBg6sl-ic...|2019-10-12 02:50:27|         5.0|I love grabbing l...|                       0|2017-01-12 00:29:34|                3|               5.0|        0|               224|                      1|                     0|                     0|                  0|                  0|     Lona's Lil Eats|        St Louis|       MO|          63104|   38.610146|    -90.22678|      4.5|             640|         1324|2014-09-06 00:25:51|2014-09-02 23:02:17|\n",
            "+--------------------+--------------------+--------------------+-------------------+------------+--------------------+------------------------+-------------------+-----------------+------------------+---------+------------------+-----------------------+----------------------+----------------------+-------------------+-------------------+--------------------+----------------+---------+---------------+------------+-------------+---------+----------------+-------------+-------------------+-------------------+\n",
            "only showing top 20 rows\n",
            "\n"
          ]
        }
      ],
      "source": [
        "df = df_review.select(\n",
        "    col(\"review_id\"),\n",
        "    col(\"user_id\"),\n",
        "    col(\"business_id\"),\n",
        "    col(\"date\").alias(\"review_date\"),\n",
        "    col(\"stars\").alias(\"review_stars\"),\n",
        "    col(\"text\").alias(\"review_text\"),\n",
        "    col(\"total_interaction\").alias(\"review_total_interaction\")\n",
        ")\n",
        "\n",
        "df = df.join(\n",
        "    df_user.select(\n",
        "        col(\"user_id\"),\n",
        "        col(\"yelping_since\").alias(\"user_yelping_since\"),\n",
        "        col(\"review_count\").alias(\"user_review_count\"),\n",
        "        col(\"average_stars\").alias(\"user_average_stars\"),\n",
        "        col(\"fans\").alias(\"user_fans\"),\n",
        "        col(\"friends_count\").alias(\"user_friends_count\"),\n",
        "        col(\"total_interactions\").alias(\"user_total_interactions\"),\n",
        "        col(\"total_compliments\").alias(\"user_total_compliments\"),\n",
        "        col(\"elite_years_count\").alias(\"user_elite_years_count\"),\n",
        "        col(\"elite_min_year\").alias(\"user_elite_min_year\"),\n",
        "        col(\"elite_max_year\").alias(\"user_elite_max_year\")\n",
        "    ),\n",
        "    on=\"user_id\",\n",
        "    how=\"left\"\n",
        ")\n",
        "\n",
        "df = df.join(\n",
        "    df_business.select(\n",
        "        col(\"business_id\"),\n",
        "        col(\"name\").alias(\"biz_name\"),\n",
        "        col(\"city\").alias(\"biz_city\"),\n",
        "        col(\"state\").alias(\"biz_state\"),\n",
        "        col(\"postal_code\").alias(\"biz_postal_code\"),\n",
        "        col(\"latitude\").alias(\"biz_latitude\"),\n",
        "        col(\"longitude\").alias(\"biz_longitude\"),\n",
        "        col(\"stars\").alias(\"biz_stars\"),\n",
        "        col(\"review_count\").alias(\"biz_review_count\")\n",
        "    ),\n",
        "    on=\"business_id\",\n",
        "    how=\"left\"\n",
        ")\n",
        "\n",
        "df = df.join(\n",
        "    df_checkin.select(\n",
        "        col(\"business_id\"),\n",
        "        col(\"checkin_count\").alias(\"checkin_count\"),\n",
        "        col(\"checkin_date_min\").alias(\"checkin_date_min\"),\n",
        "        col(\"checkin_date_max\").alias(\"checkin_date_max\")\n",
        "    ),\n",
        "    on=\"business_id\",\n",
        "    how=\"left\"\n",
        ")\n",
        "\n",
        "df.show()"
      ]
    },
    {
      "cell_type": "code",
      "execution_count": 53,
      "metadata": {
        "colab": {
          "base_uri": "https://localhost:8080/"
        },
        "id": "a8d9459pIhNn",
        "outputId": "3dc936ef-c4fd-4852-d16f-27e36acdc891"
      },
      "outputs": [
        {
          "name": "stdout",
          "output_type": "stream",
          "text": [
            "root\n",
            " |-- business_id: string (nullable = true)\n",
            " |-- user_id: string (nullable = true)\n",
            " |-- review_id: string (nullable = true)\n",
            " |-- review_date: timestamp (nullable = true)\n",
            " |-- review_stars: double (nullable = true)\n",
            " |-- review_text: string (nullable = true)\n",
            " |-- review_total_interaction: integer (nullable = true)\n",
            " |-- user_yelping_since: timestamp (nullable = true)\n",
            " |-- user_review_count: integer (nullable = true)\n",
            " |-- user_average_stars: double (nullable = true)\n",
            " |-- user_fans: integer (nullable = true)\n",
            " |-- user_friends_count: integer (nullable = true)\n",
            " |-- user_total_interactions: integer (nullable = true)\n",
            " |-- user_total_compliments: integer (nullable = true)\n",
            " |-- user_elite_years_count: integer (nullable = true)\n",
            " |-- user_elite_min_year: integer (nullable = true)\n",
            " |-- user_elite_max_year: integer (nullable = true)\n",
            " |-- biz_name: string (nullable = true)\n",
            " |-- biz_city: string (nullable = true)\n",
            " |-- biz_state: string (nullable = true)\n",
            " |-- biz_postal_code: string (nullable = true)\n",
            " |-- biz_latitude: float (nullable = true)\n",
            " |-- biz_longitude: float (nullable = true)\n",
            " |-- biz_stars: float (nullable = true)\n",
            " |-- biz_review_count: integer (nullable = true)\n",
            " |-- checkin_count: integer (nullable = true)\n",
            " |-- checkin_date_min: timestamp (nullable = true)\n",
            " |-- checkin_date_max: timestamp (nullable = true)\n",
            "\n"
          ]
        }
      ],
      "source": [
        "df.printSchema()"
      ]
    },
    {
      "cell_type": "code",
      "execution_count": null,
      "metadata": {
        "execution": {
          "iopub.execute_input": "2023-10-16T14:48:18.033881Z",
          "iopub.status.busy": "2023-10-16T14:48:18.033589Z",
          "iopub.status.idle": "2023-10-16T14:48:54.565888Z",
          "shell.execute_reply": "2023-10-16T14:48:54.563491Z",
          "shell.execute_reply.started": "2023-10-16T14:48:18.033854Z"
        },
        "id": "wK7-9R5bCF7H",
        "outputId": "5aba97d3-e7dd-4123-eaeb-6d13387b8ade",
        "trusted": true
      },
      "outputs": [
        {
          "name": "stderr",
          "output_type": "stream",
          "text": [
            "[Stage 62:=============================>                            (2 + 2) / 4]\r"
          ]
        },
        {
          "name": "stdout",
          "output_type": "stream",
          "text": [
            "Shape of master df: (6990280, 28)\n"
          ]
        },
        {
          "name": "stderr",
          "output_type": "stream",
          "text": [
            "                                                                                \r"
          ]
        }
      ],
      "source": [
        "print(\"Shape of master df:\", (df.count(), len(df.columns)))"
      ]
    },
    {
      "cell_type": "markdown",
      "metadata": {
        "id": "Mr5Ufb2FCF7H"
      },
      "source": [
        "## Data Export to AWS"
      ]
    },
    {
      "cell_type": "code",
      "execution_count": null,
      "metadata": {
        "id": "wljVeKY9Luea"
      },
      "outputs": [],
      "source": [
        "# Define the JDBC connection details\n",
        "jdbc_url = \"jdbc:postgresql://intentionally-removed.amazonaws.com/yelpreviewsense\"\n",
        "db_table = \"\"\n",
        "db_user = \"postgres\"\n",
        "db_password = \"\"\n",
        "\n",
        "# Specify the DataFrame write options\n",
        "write_options = {\n",
        "    \"url\": jdbc_url,\n",
        "    \"driver\": \"org.postgresql.Driver\",\n",
        "    \"dbtable\": db_table,\n",
        "    \"user\": db_user,\n",
        "    \"password\": db_password,\n",
        "}\n",
        "\n",
        "# Write the DataFrame to the PostgreSQL database\n",
        "df.write.format(\"jdbc\").options(**write_options).mode(\"overwrite\").save()"
      ]
    },
    {
      "cell_type": "code",
      "execution_count": null,
      "metadata": {
        "id": "-5PwRZLZCF7J"
      },
      "outputs": [],
      "source": []
    }
  ],
  "metadata": {
    "colab": {
      "provenance": []
    },
    "kernelspec": {
      "display_name": "Python 3",
      "language": "python",
      "name": "python3"
    },
    "language_info": {
      "codemirror_mode": {
        "name": "ipython",
        "version": 3
      },
      "file_extension": ".py",
      "mimetype": "text/x-python",
      "name": "python",
      "nbconvert_exporter": "python",
      "pygments_lexer": "ipython3",
      "version": "3.10.12"
    }
  },
  "nbformat": 4,
  "nbformat_minor": 0
}
