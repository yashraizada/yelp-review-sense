{
  "cells": [
    {
      "cell_type": "code",
      "execution_count": 4,
      "metadata": {
        "_cell_guid": "b1076dfc-b9ad-4769-8c92-a6c4dae69d19",
        "_uuid": "8f2839f25d086af736a60e9eeb907d3b93b6e0e5",
        "colab": {
          "base_uri": "https://localhost:8080/"
        },
        "execution": {
          "iopub.execute_input": "2023-10-13T21:07:12.597405Z",
          "iopub.status.busy": "2023-10-13T21:07:12.595576Z",
          "iopub.status.idle": "2023-10-13T21:08:02.193779Z",
          "shell.execute_reply": "2023-10-13T21:08:02.192353Z",
          "shell.execute_reply.started": "2023-10-13T21:07:12.597317Z"
        },
        "id": "BCDvCKJdSxf8",
        "outputId": "d5decbb7-0a43-4111-8542-ca40b9d59430",
        "trusted": true
      },
      "outputs": [
        {
          "name": "stdout",
          "output_type": "stream",
          "text": [
            "Collecting pyspark\n",
            "  Downloading pyspark-3.5.0.tar.gz (316.9 MB)\n",
            "\u001b[2K     \u001b[90m━━━━━━━━━━━━━━━━━━━━━━━━━━━━━━━━━━━━━━━━\u001b[0m \u001b[32m316.9/316.9 MB\u001b[0m \u001b[31m4.5 MB/s\u001b[0m eta \u001b[36m0:00:00\u001b[0m\n",
            "\u001b[?25h  Preparing metadata (setup.py) ... \u001b[?25l\u001b[?25hdone\n",
            "Requirement already satisfied: py4j==0.10.9.7 in /usr/local/lib/python3.10/dist-packages (from pyspark) (0.10.9.7)\n",
            "Building wheels for collected packages: pyspark\n",
            "  Building wheel for pyspark (setup.py) ... \u001b[?25l\u001b[?25hdone\n",
            "  Created wheel for pyspark: filename=pyspark-3.5.0-py2.py3-none-any.whl size=317425344 sha256=5f8a8071c274c45d2e4a5e37e3c841a085cd33ab58db998df4981ff405776978\n",
            "  Stored in directory: /root/.cache/pip/wheels/41/4e/10/c2cf2467f71c678cfc8a6b9ac9241e5e44a01940da8fbb17fc\n",
            "Successfully built pyspark\n",
            "Installing collected packages: pyspark\n",
            "Successfully installed pyspark-3.5.0\n"
          ]
        }
      ],
      "source": [
        "!pip install pyspark"
      ]
    },
    {
      "cell_type": "code",
      "execution_count": 5,
      "metadata": {
        "colab": {
          "base_uri": "https://localhost:8080/"
        },
        "execution": {
          "iopub.execute_input": "2023-10-13T21:43:17.530374Z",
          "iopub.status.busy": "2023-10-13T21:43:17.529899Z",
          "iopub.status.idle": "2023-10-13T21:43:17.541843Z",
          "shell.execute_reply": "2023-10-13T21:43:17.540821Z",
          "shell.execute_reply.started": "2023-10-13T21:43:17.530341Z"
        },
        "id": "LNvIzWbPSxgA",
        "outputId": "f14acb48-9f0b-4d2e-8c00-fb92bb960dba",
        "trusted": true
      },
      "outputs": [
        {
          "name": "stderr",
          "output_type": "stream",
          "text": [
            "[nltk_data] Downloading package wordnet to /root/nltk_data...\n"
          ]
        },
        {
          "data": {
            "text/plain": [
              "True"
            ]
          },
          "execution_count": 5,
          "metadata": {},
          "output_type": "execute_result"
        }
      ],
      "source": [
        "import pyspark\n",
        "from pyspark.sql import SparkSession\n",
        "from pyspark.ml.feature import Tokenizer, StopWordsRemover\n",
        "from pyspark.sql.types import IntegerType, FloatType, StringType\n",
        "from pyspark.sql.functions import (\n",
        "    col, udf, count, length, when, isnan, split, size,\n",
        "    array_min, array_max, array_distinct, to_timestamp,\n",
        "    lower, regexp_replace, concat_ws\n",
        ")\n",
        "\n",
        "import nltk\n",
        "import string\n",
        "from nltk.corpus import stopwords, wordnet\n",
        "from nltk.tokenize import word_tokenize\n",
        "from nltk.stem import WordNetLemmatizer\n",
        "import re\n",
        "\n",
        "nltk.download('wordnet')\n",
        "\n",
        "import psycopg2"
      ]
    },
    {
      "cell_type": "code",
      "execution_count": 6,
      "metadata": {
        "execution": {
          "iopub.execute_input": "2023-10-13T21:08:15.038010Z",
          "iopub.status.busy": "2023-10-13T21:08:15.037353Z",
          "iopub.status.idle": "2023-10-13T21:08:20.687663Z",
          "shell.execute_reply": "2023-10-13T21:08:20.686284Z",
          "shell.execute_reply.started": "2023-10-13T21:08:15.037969Z"
        },
        "id": "WvsAEmMnSxgB",
        "trusted": true
      },
      "outputs": [],
      "source": [
        "spark = SparkSession \\\n",
        "    .builder \\\n",
        "    .config(\"spark.driver.memory\", \"10g\") \\\n",
        "    .config(\"spark.jars\", \"postgresql-42.6.0.jar\") \\\n",
        "    .appName(\"Yelp Review Sense - NLP - Text Cleaning & Processing\") \\\n",
        "    .getOrCreate()"
      ]
    },
    {
      "cell_type": "markdown",
      "metadata": {
        "id": "iqM8daD5TVW9"
      },
      "source": [
        "## Retrieving Data from AWS RDS"
      ]
    },
    {
      "cell_type": "code",
      "execution_count": null,
      "metadata": {},
      "outputs": [],
      "source": [
        "# Define the JDBC connection details\n",
        "jdbc_url = \"jdbc:postgresql://intentionally-removed.amazonaws.com/yelpreviewsense\"\n",
        "db_table = \"\"\n",
        "db_user = \"postgres\"\n",
        "db_password = \"\""
      ]
    },
    {
      "cell_type": "code",
      "execution_count": 9,
      "metadata": {
        "colab": {
          "base_uri": "https://localhost:8080/"
        },
        "id": "ni-1mprAU9Lf",
        "outputId": "0af991d0-45b2-49be-a0ac-b6674f565122"
      },
      "outputs": [
        {
          "name": "stdout",
          "output_type": "stream",
          "text": [
            "+----------------------+--------------------------------------------------------------------------------+\n",
            "|             review_id|                                                                            text|\n",
            "+----------------------+--------------------------------------------------------------------------------+\n",
            "|KU_O5udG6zpxOg-VcAEodg|If you decide to eat here, just be aware it is going to take about 2 hours fr...|\n",
            "|BiTunyQ73aT9WBnpR9DZGw|I've taken a lot of spin classes over the years, and nothing compares to the ...|\n",
            "|saUsX_uimxRlCVr67Z4Jig|Family diner. Had the buffet. Eclectic assortment: a large chicken leg, fried...|\n",
            "|AqPFMleE6RsU23_auESxiA|Wow!  Yummy, different,  delicious.   Our favorite is the lamb curry and korm...|\n",
            "|Sx8TMOWLNuJBWer-0pcmoA|Cute interior and owner (?) gave us tour of upcoming patio/rooftop area which...|\n",
            "+----------------------+--------------------------------------------------------------------------------+\n",
            "only showing top 5 rows\n",
            "\n"
          ]
        }
      ],
      "source": [
        "# Specify the read options\n",
        "read_options = {\n",
        "    \"url\": jdbc_url,\n",
        "    \"driver\": \"org.postgresql.Driver\",\n",
        "    \"dbtable\": f\"(SELECT review_id, text FROM {db_table}) AS review_data\",\n",
        "    \"user\": db_user,\n",
        "    \"password\": db_password,\n",
        "}\n",
        "\n",
        "# Read the table into a PySpark DataFrame\n",
        "df = spark.read.format(\"jdbc\").options(**read_options).load()\n",
        "\n",
        "df.show(5, 80)"
      ]
    },
    {
      "cell_type": "markdown",
      "metadata": {
        "id": "jtl6Tw7FSxgC"
      },
      "source": [
        "## Text Cleaning and Preprocessing"
      ]
    },
    {
      "cell_type": "markdown",
      "metadata": {
        "id": "oK4iBJGnSxgD"
      },
      "source": [
        "Convert text to lowercase"
      ]
    },
    {
      "cell_type": "code",
      "execution_count": 10,
      "metadata": {
        "colab": {
          "base_uri": "https://localhost:8080/"
        },
        "execution": {
          "iopub.execute_input": "2023-10-13T22:55:24.619237Z",
          "iopub.status.busy": "2023-10-13T22:55:24.618850Z",
          "iopub.status.idle": "2023-10-13T22:55:24.703058Z",
          "shell.execute_reply": "2023-10-13T22:55:24.701846Z",
          "shell.execute_reply.started": "2023-10-13T22:55:24.619211Z"
        },
        "id": "qN-K2eTESxgD",
        "outputId": "4908e2ad-9ca8-4de0-a45b-7f474aced56d",
        "trusted": true
      },
      "outputs": [
        {
          "name": "stdout",
          "output_type": "stream",
          "text": [
            "+----------------------+----------------------------------------+----------------------------------------+\n",
            "|             review_id|                                    text|                            cleaned_text|\n",
            "+----------------------+----------------------------------------+----------------------------------------+\n",
            "|KU_O5udG6zpxOg-VcAEodg|If you decide to eat here, just be aw...|if you decide to eat here, just be aw...|\n",
            "|BiTunyQ73aT9WBnpR9DZGw|I've taken a lot of spin classes over...|i've taken a lot of spin classes over...|\n",
            "|saUsX_uimxRlCVr67Z4Jig|Family diner. Had the buffet. Eclecti...|family diner. had the buffet. eclecti...|\n",
            "|AqPFMleE6RsU23_auESxiA|Wow!  Yummy, different,  delicious.  ...|wow!  yummy, different,  delicious.  ...|\n",
            "|Sx8TMOWLNuJBWer-0pcmoA|Cute interior and owner (?) gave us t...|cute interior and owner (?) gave us t...|\n",
            "|JrIxlS1TzJ-iCu79ul40cQ|I am a long term frequent customer of...|i am a long term frequent customer of...|\n",
            "|6AxgBCNX_PNTOxmbRSwcKQ|Loved this tour! I grabbed a groupon ...|loved this tour! i grabbed a groupon ...|\n",
            "|_ZeMknuYdlQcUqng_Im3yg|Amazingly amazing wings and homemade ...|amazingly amazing wings and homemade ...|\n",
            "|ZKvDG2sBvHVdF5oBNUOpAQ|This easter instead of going to Lopez...|this easter instead of going to lopez...|\n",
            "|pUycOfUwM8vqX7KjRRhUEA|Had a party of 6 here for hibachi. Ou...|had a party of 6 here for hibachi. ou...|\n",
            "+----------------------+----------------------------------------+----------------------------------------+\n",
            "only showing top 10 rows\n",
            "\n"
          ]
        }
      ],
      "source": [
        "df = df.withColumn(\"cleaned_text\", lower(col(\"text\")))\n",
        "df.show(10, 40)"
      ]
    },
    {
      "cell_type": "markdown",
      "metadata": {
        "id": "EiNUJvDBSxgD"
      },
      "source": [
        "Remove special characters and punctuation"
      ]
    },
    {
      "cell_type": "code",
      "execution_count": 11,
      "metadata": {
        "colab": {
          "base_uri": "https://localhost:8080/"
        },
        "execution": {
          "iopub.execute_input": "2023-10-13T22:55:28.144436Z",
          "iopub.status.busy": "2023-10-13T22:55:28.144070Z",
          "iopub.status.idle": "2023-10-13T22:55:28.228062Z",
          "shell.execute_reply": "2023-10-13T22:55:28.227006Z",
          "shell.execute_reply.started": "2023-10-13T22:55:28.144410Z"
        },
        "id": "mA5stE5JSxgE",
        "outputId": "552104d1-26c1-466b-b0ae-9448cc8d6ce6",
        "trusted": true
      },
      "outputs": [
        {
          "name": "stdout",
          "output_type": "stream",
          "text": [
            "+----------------------+----------------------------------------+----------------------------------------+\n",
            "|             review_id|                                    text|                            cleaned_text|\n",
            "+----------------------+----------------------------------------+----------------------------------------+\n",
            "|KU_O5udG6zpxOg-VcAEodg|If you decide to eat here, just be aw...|if you decide to eat here just be awa...|\n",
            "|BiTunyQ73aT9WBnpR9DZGw|I've taken a lot of spin classes over...|ive taken a lot of spin classes over ...|\n",
            "|saUsX_uimxRlCVr67Z4Jig|Family diner. Had the buffet. Eclecti...|family diner had the buffet eclectic ...|\n",
            "|AqPFMleE6RsU23_auESxiA|Wow!  Yummy, different,  delicious.  ...|wow  yummy different  delicious   our...|\n",
            "|Sx8TMOWLNuJBWer-0pcmoA|Cute interior and owner (?) gave us t...|cute interior and owner  gave us tour...|\n",
            "|JrIxlS1TzJ-iCu79ul40cQ|I am a long term frequent customer of...|i am a long term frequent customer of...|\n",
            "|6AxgBCNX_PNTOxmbRSwcKQ|Loved this tour! I grabbed a groupon ...|loved this tour i grabbed a groupon a...|\n",
            "|_ZeMknuYdlQcUqng_Im3yg|Amazingly amazing wings and homemade ...|amazingly amazing wings and homemade ...|\n",
            "|ZKvDG2sBvHVdF5oBNUOpAQ|This easter instead of going to Lopez...|this easter instead of going to lopez...|\n",
            "|pUycOfUwM8vqX7KjRRhUEA|Had a party of 6 here for hibachi. Ou...|had a party of 6 here for hibachi our...|\n",
            "+----------------------+----------------------------------------+----------------------------------------+\n",
            "only showing top 10 rows\n",
            "\n"
          ]
        }
      ],
      "source": [
        "df = df.withColumn(\"cleaned_text\", regexp_replace(col(\"cleaned_text\"), '[' + re.escape(string.punctuation) + ']', ''))\n",
        "df.show(10, 40)"
      ]
    },
    {
      "cell_type": "markdown",
      "metadata": {
        "id": "3lJC1isMSxgE"
      },
      "source": [
        "Remove stopwords"
      ]
    },
    {
      "cell_type": "code",
      "execution_count": 12,
      "metadata": {
        "colab": {
          "base_uri": "https://localhost:8080/"
        },
        "execution": {
          "iopub.execute_input": "2023-10-13T22:55:31.683363Z",
          "iopub.status.busy": "2023-10-13T22:55:31.682937Z",
          "iopub.status.idle": "2023-10-13T22:55:31.933876Z",
          "shell.execute_reply": "2023-10-13T22:55:31.933006Z",
          "shell.execute_reply.started": "2023-10-13T22:55:31.683334Z"
        },
        "id": "vHGrFXOJSxgE",
        "outputId": "f84159cf-ac6d-4967-e3e6-90f3b7d9b13b",
        "trusted": true
      },
      "outputs": [
        {
          "name": "stdout",
          "output_type": "stream",
          "text": [
            "+----------------------+----------------------------------------+----------------------------------------+\n",
            "|             review_id|                                    text|                            cleaned_text|\n",
            "+----------------------+----------------------------------------+----------------------------------------+\n",
            "|KU_O5udG6zpxOg-VcAEodg|If you decide to eat here, just be aw...|decide eat aware going take 2 hours b...|\n",
            "|BiTunyQ73aT9WBnpR9DZGw|I've taken a lot of spin classes over...|ive taken lot spin classes years noth...|\n",
            "|saUsX_uimxRlCVr67Z4Jig|Family diner. Had the buffet. Eclecti...|family diner buffet eclectic assortme...|\n",
            "|AqPFMleE6RsU23_auESxiA|Wow!  Yummy, different,  delicious.  ...|wow  yummy different  delicious   fav...|\n",
            "|Sx8TMOWLNuJBWer-0pcmoA|Cute interior and owner (?) gave us t...|cute interior owner  gave us tour upc...|\n",
            "|JrIxlS1TzJ-iCu79ul40cQ|I am a long term frequent customer of...|long term frequent customer establish...|\n",
            "|6AxgBCNX_PNTOxmbRSwcKQ|Loved this tour! I grabbed a groupon ...|loved tour grabbed groupon price grea...|\n",
            "|_ZeMknuYdlQcUqng_Im3yg|Amazingly amazing wings and homemade ...|amazingly amazing wings homemade bleu...|\n",
            "|ZKvDG2sBvHVdF5oBNUOpAQ|This easter instead of going to Lopez...|easter instead going lopez lake went ...|\n",
            "|pUycOfUwM8vqX7KjRRhUEA|Had a party of 6 here for hibachi. Ou...|party 6 hibachi waitress brought sepa...|\n",
            "+----------------------+----------------------------------------+----------------------------------------+\n",
            "only showing top 10 rows\n",
            "\n"
          ]
        }
      ],
      "source": [
        "# Tokenize the 'cleaned_text' column into a new 'tokens' column\n",
        "df = Tokenizer(inputCol=\"cleaned_text\", outputCol=\"tokens\").transform(df)\n",
        "\n",
        "# Remove stopwords\n",
        "remover = StopWordsRemover(inputCol=\"tokens\", outputCol=\"filtered_tokens\")\n",
        "df = remover.transform(df)\n",
        "\n",
        "# Join the 'filtered_tokens' back into a text, overwriting the 'cleaned_text' column\n",
        "df = df.withColumn(\"cleaned_text\", concat_ws(\" \", col(\"filtered_tokens\")))\n",
        "df = df.drop(\"tokens\", \"filtered_tokens\")\n",
        "\n",
        "df.show(10, 40)"
      ]
    },
    {
      "cell_type": "markdown",
      "metadata": {
        "id": "Y5OBktS7SxgE"
      },
      "source": [
        "Remove emojis and emoticons"
      ]
    },
    {
      "cell_type": "code",
      "execution_count": 13,
      "metadata": {
        "colab": {
          "base_uri": "https://localhost:8080/"
        },
        "execution": {
          "iopub.execute_input": "2023-10-13T22:55:35.453795Z",
          "iopub.status.busy": "2023-10-13T22:55:35.453438Z",
          "iopub.status.idle": "2023-10-13T22:55:35.579866Z",
          "shell.execute_reply": "2023-10-13T22:55:35.578749Z",
          "shell.execute_reply.started": "2023-10-13T22:55:35.453769Z"
        },
        "id": "ZmRkTwaoSxgF",
        "outputId": "36534efc-7763-4cee-a905-7a889f6528f8",
        "trusted": true
      },
      "outputs": [
        {
          "name": "stdout",
          "output_type": "stream",
          "text": [
            "+----------------------+----------------------------------------+----------------------------------------+\n",
            "|             review_id|                                    text|                            cleaned_text|\n",
            "+----------------------+----------------------------------------+----------------------------------------+\n",
            "|KU_O5udG6zpxOg-VcAEodg|If you decide to eat here, just be aw...|decide eat aware going take  hours be...|\n",
            "|BiTunyQ73aT9WBnpR9DZGw|I've taken a lot of spin classes over...|ive taken lot spin classes years noth...|\n",
            "|saUsX_uimxRlCVr67Z4Jig|Family diner. Had the buffet. Eclecti...|family diner buffet eclectic assortme...|\n",
            "|AqPFMleE6RsU23_auESxiA|Wow!  Yummy, different,  delicious.  ...|wow  yummy different  delicious   fav...|\n",
            "|Sx8TMOWLNuJBWer-0pcmoA|Cute interior and owner (?) gave us t...|cute interior owner  gave us tour upc...|\n",
            "|JrIxlS1TzJ-iCu79ul40cQ|I am a long term frequent customer of...|long term frequent customer establish...|\n",
            "|6AxgBCNX_PNTOxmbRSwcKQ|Loved this tour! I grabbed a groupon ...|loved tour grabbed groupon price grea...|\n",
            "|_ZeMknuYdlQcUqng_Im3yg|Amazingly amazing wings and homemade ...|amazingly amazing wings homemade bleu...|\n",
            "|ZKvDG2sBvHVdF5oBNUOpAQ|This easter instead of going to Lopez...|easter instead going lopez lake went ...|\n",
            "|pUycOfUwM8vqX7KjRRhUEA|Had a party of 6 here for hibachi. Ou...|party  hibachi waitress brought separ...|\n",
            "+----------------------+----------------------------------------+----------------------------------------+\n",
            "only showing top 10 rows\n",
            "\n"
          ]
        }
      ],
      "source": [
        "emoji_pattern = r'[' \\\n",
        "                r'\\\\U0001F600-\\\\U0001F64F' \\\n",
        "                r'\\\\U0001F300-\\\\U0001F5FF' \\\n",
        "                r'\\\\U0001F680-\\\\U0001F6FF' \\\n",
        "                r'\\\\U0001F700-\\\\U0001F77F' \\\n",
        "                r'\\\\U0001F780-\\\\U0001F7FF' \\\n",
        "                r'\\\\U0001F800-\\\\U0001F8FF' \\\n",
        "                r'\\\\U0001F900-\\\\U0001F9FF' \\\n",
        "                r'\\\\U0001FA00-\\\\U0001FA6F' \\\n",
        "                r'\\\\U0001FA70-\\\\U0001FAFF' \\\n",
        "                r'\\\\U0001FB00-\\\\U0001FBFF' \\\n",
        "                r'\\\\U0001FC00-\\\\U0001FCFF' \\\n",
        "                r'\\\\U0001FD00-\\\\U0001FDFF' \\\n",
        "                r'\\\\U0001FE00-\\\\U0001FEFF' \\\n",
        "                r'\\\\U0001FF00-\\\\U0001FFFF' \\\n",
        "                r']'\n",
        "\n",
        "emoticon_pattern = r'[:;][-\\'\\)\\(\\]\\[dDpPoO/\\\\|33*]+|<3'\n",
        "\n",
        "df = df.withColumn(\"cleaned_text\", regexp_replace(df[\"cleaned_text\"], emoji_pattern, \"\"))\n",
        "df = df.withColumn(\"cleaned_text\", regexp_replace(df[\"cleaned_text\"], emoticon_pattern, \"\"))\n",
        "\n",
        "df.show(10, 40)"
      ]
    },
    {
      "cell_type": "markdown",
      "metadata": {
        "id": "yRVpWLQkSxgF"
      },
      "source": [
        "Remove URLs and HTML Tags"
      ]
    },
    {
      "cell_type": "code",
      "execution_count": 14,
      "metadata": {
        "colab": {
          "base_uri": "https://localhost:8080/"
        },
        "execution": {
          "iopub.execute_input": "2023-10-13T22:55:38.084646Z",
          "iopub.status.busy": "2023-10-13T22:55:38.084266Z",
          "iopub.status.idle": "2023-10-13T22:55:38.217028Z",
          "shell.execute_reply": "2023-10-13T22:55:38.216012Z",
          "shell.execute_reply.started": "2023-10-13T22:55:38.084617Z"
        },
        "id": "zP2vLKuMSxgF",
        "outputId": "63e22966-172d-406f-d859-a93ecc917ea7",
        "trusted": true
      },
      "outputs": [
        {
          "name": "stdout",
          "output_type": "stream",
          "text": [
            "+----------------------+----------------------------------------+----------------------------------------+\n",
            "|             review_id|                                    text|                            cleaned_text|\n",
            "+----------------------+----------------------------------------+----------------------------------------+\n",
            "|KU_O5udG6zpxOg-VcAEodg|If you decide to eat here, just be aw...|decide eat aware going take  hours be...|\n",
            "|BiTunyQ73aT9WBnpR9DZGw|I've taken a lot of spin classes over...|ive taken lot spin classes years noth...|\n",
            "|saUsX_uimxRlCVr67Z4Jig|Family diner. Had the buffet. Eclecti...|family diner buffet eclectic assortme...|\n",
            "|AqPFMleE6RsU23_auESxiA|Wow!  Yummy, different,  delicious.  ...|wow  yummy different  delicious   fav...|\n",
            "|Sx8TMOWLNuJBWer-0pcmoA|Cute interior and owner (?) gave us t...|cute interior owner  gave us tour upc...|\n",
            "|JrIxlS1TzJ-iCu79ul40cQ|I am a long term frequent customer of...|long term frequent customer establish...|\n",
            "|6AxgBCNX_PNTOxmbRSwcKQ|Loved this tour! I grabbed a groupon ...|loved tour grabbed groupon price grea...|\n",
            "|_ZeMknuYdlQcUqng_Im3yg|Amazingly amazing wings and homemade ...|amazingly amazing wings homemade bleu...|\n",
            "|ZKvDG2sBvHVdF5oBNUOpAQ|This easter instead of going to Lopez...|easter instead going lopez lake went ...|\n",
            "|pUycOfUwM8vqX7KjRRhUEA|Had a party of 6 here for hibachi. Ou...|party  hibachi waitress brought separ...|\n",
            "+----------------------+----------------------------------------+----------------------------------------+\n",
            "only showing top 10 rows\n",
            "\n"
          ]
        }
      ],
      "source": [
        "html_pattern = r\"<.*?>\"\n",
        "url_pattern = r\"https?://\\S+|www\\.\\S+\"\n",
        "\n",
        "df = df.withColumn(\"cleaned_text\", regexp_replace(df[\"cleaned_text\"], html_pattern, \"\"))\n",
        "df = df.withColumn(\"cleaned_text\", regexp_replace(df[\"cleaned_text\"], url_pattern, \"\"))\n",
        "\n",
        "df.show(10, 40)"
      ]
    },
    {
      "cell_type": "markdown",
      "metadata": {
        "id": "W5WVD48sSxgF"
      },
      "source": [
        "Limit consecutive whitespaces to 1"
      ]
    },
    {
      "cell_type": "code",
      "execution_count": 15,
      "metadata": {
        "colab": {
          "base_uri": "https://localhost:8080/"
        },
        "execution": {
          "iopub.execute_input": "2023-10-13T22:55:41.240661Z",
          "iopub.status.busy": "2023-10-13T22:55:41.240278Z",
          "iopub.status.idle": "2023-10-13T22:55:41.374630Z",
          "shell.execute_reply": "2023-10-13T22:55:41.373494Z",
          "shell.execute_reply.started": "2023-10-13T22:55:41.240633Z"
        },
        "id": "k7DB0HGJSxgF",
        "outputId": "0f67fef1-7542-42ac-fafe-d4ff3767e2d2",
        "trusted": true
      },
      "outputs": [
        {
          "name": "stdout",
          "output_type": "stream",
          "text": [
            "+----------------------+----------------------------------------+----------------------------------------+\n",
            "|             review_id|                                    text|                            cleaned_text|\n",
            "+----------------------+----------------------------------------+----------------------------------------+\n",
            "|KU_O5udG6zpxOg-VcAEodg|If you decide to eat here, just be aw...|decide eat aware going take hours beg...|\n",
            "|BiTunyQ73aT9WBnpR9DZGw|I've taken a lot of spin classes over...|ive taken lot spin classes years noth...|\n",
            "|saUsX_uimxRlCVr67Z4Jig|Family diner. Had the buffet. Eclecti...|family diner buffet eclectic assortme...|\n",
            "|AqPFMleE6RsU23_auESxiA|Wow!  Yummy, different,  delicious.  ...|wow yummy different delicious favorit...|\n",
            "|Sx8TMOWLNuJBWer-0pcmoA|Cute interior and owner (?) gave us t...|cute interior owner gave us tour upco...|\n",
            "|JrIxlS1TzJ-iCu79ul40cQ|I am a long term frequent customer of...|long term frequent customer establish...|\n",
            "|6AxgBCNX_PNTOxmbRSwcKQ|Loved this tour! I grabbed a groupon ...|loved tour grabbed groupon price grea...|\n",
            "|_ZeMknuYdlQcUqng_Im3yg|Amazingly amazing wings and homemade ...|amazingly amazing wings homemade bleu...|\n",
            "|ZKvDG2sBvHVdF5oBNUOpAQ|This easter instead of going to Lopez...|easter instead going lopez lake went ...|\n",
            "|pUycOfUwM8vqX7KjRRhUEA|Had a party of 6 here for hibachi. Ou...|party hibachi waitress brought separa...|\n",
            "+----------------------+----------------------------------------+----------------------------------------+\n",
            "only showing top 10 rows\n",
            "\n"
          ]
        }
      ],
      "source": [
        "df = df.withColumn(\"cleaned_text\", regexp_replace(df[\"cleaned_text\"], r'\\s+', ' '))\n",
        "df.show(10, 40)"
      ]
    },
    {
      "cell_type": "markdown",
      "metadata": {
        "id": "EkFkFc2Agy7H"
      },
      "source": [
        "## Data Export to AWS"
      ]
    },
    {
      "cell_type": "code",
      "execution_count": 15,
      "metadata": {
        "id": "5k7nWLXOSxgG"
      },
      "outputs": [],
      "source": [
        "# Specify the new options\n",
        "options = {\n",
        "    \"url\": jdbc_url,\n",
        "    \"driver\": \"org.postgresql.Driver\",\n",
        "    \"dbtable\": db_table,\n",
        "    \"user\": db_user,\n",
        "    \"password\": db_password,\n",
        "}\n",
        "\n",
        "# Read the table into a PySpark DataFrame\n",
        "master = spark.read.format(\"jdbc\").options(**options).load()\n",
        "\n",
        "# Merge the df with master df on review_id\n",
        "master = master.join(df.select(\"review_id\", \"cleaned_text\"), on = \"review_id\", how = \"inner\")\n",
        "\n",
        "# Update dataset\n",
        "master.write.format(\"jdbc\").options(**options).mode(\"overwrite\").save()"
      ]
    }
  ],
  "metadata": {
    "colab": {
      "provenance": []
    },
    "kernelspec": {
      "display_name": "Python 3",
      "language": "python",
      "name": "python3"
    },
    "language_info": {
      "codemirror_mode": {
        "name": "ipython",
        "version": 3
      },
      "file_extension": ".py",
      "mimetype": "text/x-python",
      "name": "python",
      "nbconvert_exporter": "python",
      "pygments_lexer": "ipython3",
      "version": "3.10.12"
    }
  },
  "nbformat": 4,
  "nbformat_minor": 0
}
